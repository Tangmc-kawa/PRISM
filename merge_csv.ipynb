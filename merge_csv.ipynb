{
 "cells": [
  {
   "cell_type": "code",
   "execution_count": 25,
   "metadata": {},
   "outputs": [
    {
     "name": "stdout",
     "output_type": "stream",
     "text": [
      "['./dataset/processed/PRISM2D_MouseEmbryo\\\\E13.5\\\\1-1\\\\visualization\\\\rna_labeled',\n",
      " './dataset/processed/PRISM2D_MouseEmbryo\\\\E13.5\\\\1-16\\\\visualization\\\\rna_labeled',\n",
      " './dataset/processed/PRISM2D_MouseEmbryo\\\\E13.5\\\\1-21\\\\visualization\\\\rna_labeled',\n",
      " './dataset/processed/PRISM2D_MouseEmbryo\\\\E13.5\\\\1-6\\\\visualization\\\\rna_labeled',\n",
      " './dataset/processed/PRISM2D_MouseEmbryo\\\\E13.5\\\\2-11\\\\visualization\\\\rna_labeled',\n",
      " './dataset/processed/PRISM2D_MouseEmbryo\\\\E13.5\\\\2-16\\\\visualization\\\\rna_labeled',\n",
      " './dataset/processed/PRISM2D_MouseEmbryo\\\\E13.5\\\\2-6\\\\visualization\\\\rna_labeled',\n",
      " './dataset/processed/PRISM2D_MouseEmbryo\\\\E14.5\\\\1-17\\\\visualization\\\\rna_labeled',\n",
      " './dataset/processed/PRISM2D_MouseEmbryo\\\\E14.5\\\\1-18\\\\visualization\\\\rna_labeled',\n",
      " './dataset/processed/PRISM2D_MouseEmbryo\\\\E14.5\\\\1-22\\\\visualization\\\\rna_labeled']\n"
     ]
    },
    {
     "name": "stderr",
     "output_type": "stream",
     "text": [
      "merging: 100%|██████████| 10/10 [00:50<00:00,  5.02s/it]\n"
     ]
    },
    {
     "name": "stdout",
     "output_type": "stream",
     "text": [
      "['./dataset/processed/PRISM2D_HCC\\\\readout\\\\intensity']\n"
     ]
    },
    {
     "name": "stderr",
     "output_type": "stream",
     "text": [
      "merging: 100%|██████████| 1/1 [00:08<00:00,  8.12s/it]\n"
     ]
    }
   ],
   "source": [
    "import os\n",
    "import re\n",
    "import pandas as pd\n",
    "from pprint import pprint\n",
    "from tqdm import tqdm\n",
    "\n",
    "def merge_csv_files(root_dir):\n",
    "    file_dict = {}\n",
    "\n",
    "    # Regex to capture the base name and part number\n",
    "    pattern = re.compile(r'(.+)_part(\\d+)\\.csv$')\n",
    "\n",
    "    # Walk through all directories and files in the root directory\n",
    "    for dirpath, _, filenames in os.walk(root_dir):\n",
    "        for file in filenames:\n",
    "            match = pattern.search(file)\n",
    "            if match:\n",
    "                base_name = match.group(1)\n",
    "                part_num = int(match.group(2))\n",
    "                # Append the file path to the list in the dictionary\n",
    "                if (dirpath, base_name) not in file_dict:\n",
    "                    file_dict[(dirpath, base_name)] = []\n",
    "                file_dict[(dirpath, base_name)].append([part_num, os.path.join(dirpath, file)])\n",
    "\n",
    "    pprint(['\\\\'.join(_) for _ in file_dict.keys()])\n",
    "\n",
    "    # Process each base name separately\n",
    "    for file_info, files in tqdm(file_dict.items(), desc='merging'):\n",
    "        dirpath, base_name = file_info\n",
    "        files.sort()\n",
    "        # Read and concatenate all DataFrames\n",
    "        df_list = [pd.read_csv(file_path) for _, file_path in files]\n",
    "        merged_df = pd.concat(df_list, ignore_index=True)\n",
    "        # Save the merged DataFrame\n",
    "        output_filename = os.path.join(dirpath, f\"{base_name}.csv\")\n",
    "        merged_df.to_csv(output_filename, index=False)\n",
    "        # print(f\"Merged file saved as: {output_filename}\")\n",
    "\n",
    "# Usage\n",
    "root_directory = './dataset/processed/PRISM2D_MouseEmbryo'  # Change to your directory path\n",
    "merge_csv_files(root_directory)\n",
    "\n",
    "root_directory = './dataset/processed/PRISM2D_HCC'  # Change to your directory path\n",
    "merge_csv_files(root_directory)"
   ]
  }
 ],
 "metadata": {
  "kernelspec": {
   "display_name": "PRISM",
   "language": "python",
   "name": "python3"
  },
  "language_info": {
   "codemirror_mode": {
    "name": "ipython",
    "version": 3
   },
   "file_extension": ".py",
   "mimetype": "text/x-python",
   "name": "python",
   "nbconvert_exporter": "python",
   "pygments_lexer": "ipython3",
   "version": "3.11.9"
  }
 },
 "nbformat": 4,
 "nbformat_minor": 2
}
