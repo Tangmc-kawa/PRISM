{
 "cells": [
  {
   "cell_type": "markdown",
   "metadata": {},
   "source": [
    "# Gene Expression Analysis"
   ]
  },
  {
   "cell_type": "markdown",
   "metadata": {},
   "source": [
    "# Environment"
   ]
  },
  {
   "cell_type": "code",
   "execution_count": null,
   "metadata": {},
   "outputs": [],
   "source": [
    "# Loading the Packages\n",
    "%reload_ext autoreload\n",
    "%autoreload 2\n",
    "\n",
    "import os\n",
    "import time\n",
    "import warnings\n",
    "warnings.filterwarnings('ignore')\n",
    "from tqdm import tqdm\n",
    "\n",
    "import numpy as np\n",
    "import pandas as pd\n",
    "\n",
    "import matplotlib.pyplot as plt\n",
    "import matplotlib.gridspec as gridspec\n",
    "import seaborn as sns"
   ]
  },
  {
   "cell_type": "markdown",
   "metadata": {},
   "source": [
    "### functions for cell-typing\n"
   ]
  },
  {
   "cell_type": "code",
   "execution_count": null,
   "metadata": {},
   "outputs": [],
   "source": [
    "import scanpy as sc\n",
    "from scipy.signal import argrelextrema\n",
    "from scipy.signal import find_peaks\n",
    "import pickle\n",
    "\n",
    "# Preprocessing\n",
    "def adata_filter(adata, min_genes, min_counts, max_counts, min_cells):\n",
    "    sc.pp.filter_cells(adata, min_genes=min_genes)\n",
    "    sc.pp.filter_cells(adata, min_counts=min_counts)\n",
    "    sc.pp.filter_cells(adata, max_counts=max_counts)\n",
    "    sc.pp.filter_genes(adata, min_cells=min_cells)\n",
    "    return adata\n",
    "\n",
    "\n",
    "def QC_plot(adata, hue, min_counts='nan', max_counts='nan', min_genes='nan', min_cells='nan'):\n",
    "    g = sns.JointGrid(\n",
    "        data=adata.obs,\n",
    "        x=\"total_counts\",\n",
    "        y=\"n_genes_by_counts\",\n",
    "        height=5,\n",
    "        ratio=2,\n",
    "        hue=hue,\n",
    "    )\n",
    "    \n",
    "    g.plot_joint(sns.scatterplot, s=40, alpha=0.3)\n",
    "    g.plot_marginals(sns.kdeplot)\n",
    "    g.set_axis_labels(\"total_counts\", \"n_genes_by_counts\", fontsize=16)\n",
    "    g.fig.set_figwidth(6)\n",
    "    g.fig.set_figheight(6)\n",
    "    g.fig.suptitle(\"QC_by_{}, cell_num={}, gene_num={}\\n\\\n",
    "                   min_counts={}, max_counts={}, min_genes={}, min_cells={}\\\n",
    "                   \\n\\n\\n\\n\\n\".format(hue,len(adata),len(adata.var.index),min_counts, max_counts, min_genes, min_cells))\n",
    "    plt.show()\n",
    "\n",
    "\n",
    "def general_preprocess(adata, min_genes=2, min_counts=5, max_counts=200, min_cells=3, auto_filter=False, hue='dataset', alpha=0.5):\n",
    "    # Calculate QC metrics\n",
    "    sc.pp.calculate_qc_metrics(adata, percent_top=None, inplace=True)\n",
    "\n",
    "    fig = plt.figure(figsize=(12, 4))  # You can adjust the overall figure size here\n",
    "    gs = gridspec.GridSpec(1, 3)\n",
    "    # Plot top 20 most expressed genes\n",
    "    ax1 = fig.add_subplot(gs[0, 0])\n",
    "    sc.pl.highest_expr_genes(adata, n_top=10, ax=ax1, show=False)\n",
    "    # distribution of cell counts\n",
    "    ax2 = fig.add_subplot(gs[0, 1:3])\n",
    "    counts = adata.obs.total_counts\n",
    "    sns.histplot(counts, stat='count', ax=ax2,\n",
    "                bins=int(np.percentile(counts, 90)), edgecolor='white', linewidth=0.5, alpha=1, \n",
    "                kde=True, line_kws=dict(color='black', alpha=0.7, linewidth=1.5, label='KDE'), kde_kws={'bw_adjust': 1},\n",
    "                )\n",
    "    y = ax2.get_lines()[0].get_ydata()\n",
    "    maxima = [float(_/len(y)*(max(counts)-min(counts))+min(counts)) for _ in argrelextrema(-np.array(y), np.less)[0]]\n",
    "    print(f'maxima: {maxima}')\n",
    "    plt.tight_layout()\n",
    "    plt.show()\n",
    "    plt.close(fig=fig)\n",
    "    \n",
    "    \n",
    "    # plot origin and filtered in a combined figure\n",
    "    fig = plt.figure(figsize=(12, 6))\n",
    "    gs = gridspec.GridSpec(3, 6)\n",
    "    categories = adata.obs[hue].unique()\n",
    "\n",
    "    ax_1_scatter = fig.add_subplot(gs[1:3, 0:2])\n",
    "    sns.scatterplot(x=adata.obs.total_counts, y=adata.obs.n_genes_by_counts,\n",
    "                    hue=adata.obs[hue], ax=ax_1_scatter, alpha=alpha)\n",
    "    \n",
    "    ax_1_count = fig.add_subplot(gs[0:1, 0:2])\n",
    "    for category in categories:\n",
    "        subset = adata[adata.obs[hue] == category]\n",
    "        sns.kdeplot(subset.obs.total_counts, ax=ax_1_count)\n",
    "    ax_1_count.xaxis.set_visible(False)\n",
    "    ax_1_count.yaxis.set_visible(False)\n",
    "    ax_1_count.grid(False)\n",
    "\n",
    "    ax_1_gene = fig.add_subplot(gs[1:3, 2:3])\n",
    "    for category in categories:\n",
    "        subset = adata[adata.obs[hue] == category]\n",
    "        sns.kdeplot(y=subset.obs.n_genes_by_counts, ax=ax_1_gene)\n",
    "    ax_1_gene.xaxis.set_visible(False)\n",
    "    ax_1_gene.yaxis.set_visible(False)\n",
    "    ax_1_gene.grid(False)\n",
    "\n",
    "    ax_1_count.set_title(\"QC_by_{}, cell_num={}, gene_num={}\\n\\\n",
    "                         min_counts={}, max_counts={}, \\n\\\n",
    "                         min_genes={}, min_cells={}\\\n",
    "                         \".format(hue, len(adata), len(adata.var.index), 'nan', 'nan', 'nan', 'nan'))\n",
    "\n",
    "    origin_cell_num = len(adata)\n",
    "    min_counts = int(maxima[0]) if auto_filter else min_counts\n",
    "    max_counts = int(np.percentile(counts, 99.9)) if auto_filter else max_counts\n",
    "\n",
    "\n",
    "    adata = adata_filter(adata, min_genes, min_counts, max_counts, min_cells)\n",
    "    filtered_cell_num = len(adata)\n",
    "\n",
    "    ax_2_scatter = fig.add_subplot(gs[1:3, 3:5])\n",
    "    sns.scatterplot(x=adata.obs.total_counts, y=adata.obs.n_genes_by_counts,\n",
    "                    hue=adata.obs[hue], ax=ax_2_scatter, alpha=alpha)\n",
    "    \n",
    "    ax_2_count = fig.add_subplot(gs[0:1, 3:5])\n",
    "    categories = adata.obs[hue].unique()\n",
    "    for category in categories:\n",
    "        subset = adata[adata.obs[hue] == category]\n",
    "        sns.kdeplot(subset.obs.total_counts, ax=ax_2_count)\n",
    "    ax_2_count.xaxis.set_visible(False)\n",
    "    ax_2_count.yaxis.set_visible(False)\n",
    "    ax_2_count.grid(False)\n",
    "\n",
    "    ax_2_gene = fig.add_subplot(gs[1:3, 5:6])\n",
    "    for category in categories:\n",
    "        subset = adata[adata.obs[hue] == category]\n",
    "        sns.kdeplot(y=subset.obs.n_genes_by_counts, ax=ax_2_gene)\n",
    "    ax_2_gene.xaxis.set_visible(False)\n",
    "    ax_2_gene.yaxis.set_visible(False)\n",
    "    ax_2_gene.grid(False)\n",
    "\n",
    "    ax_2_count.set_title(\"QC_by_{}, cell_num={}, gene_num={}\\n\\\n",
    "                         min_counts={}, max_counts={}, \\n\\\n",
    "                         min_genes={}, min_cells={}\\\n",
    "                         \".format(hue, len(adata), len(adata.var.index), min_counts, max_counts, min_genes, min_cells))\n",
    "    \n",
    "    plt.tight_layout()\n",
    "    \n",
    "    plt.show()\n",
    "    plt.close(fig=fig)\n",
    "\n",
    "    # plot origin\n",
    "\n",
    "    # QC_plot(adata, hue='dataset')\n",
    "\n",
    "    # # plot filtered\n",
    "    # min_counts = int(maxima[0]) if auto_filter else min_counts\n",
    "    # max_counts = int(np.percentile(counts, 99.9)) if auto_filter else max_counts\n",
    "    # adata = adata_filter(adata, min_genes, min_counts, max_counts, min_cells)\n",
    "    # filtered_cell_num = len(adata)\n",
    "    # QC_plot(adata, hue='dataset', min_genes=min_genes, min_counts=min_counts, max_counts=max_counts, min_cells=min_cells)\n",
    "    return adata, origin_cell_num, filtered_cell_num\n",
    "\n",
    "\n",
    "# g = sns.JointGrid(\n",
    "#     data=adata.obs,\n",
    "#     x=\"total_counts\",\n",
    "#     y=\"n_genes_by_counts\",\n",
    "#     height=5,\n",
    "#     ratio=2,\n",
    "#     hue=hue,\n",
    "# )\n",
    "\n",
    "# g.plot_joint(sns.scatterplot, s=40, alpha=0.3)\n",
    "# g.plot_marginals(sns.kdeplot)\n",
    "# g.set_axis_labels(\"total_counts\", \"n_genes_by_counts\", fontsize=16)\n",
    "# g.fig.set_figwidth(6)\n",
    "# g.fig.set_figheight(6)\n",
    "# g.fig.suptitle(\"QC_by_{}, cell_num={}, gene_num={}\\n\\\n",
    "#                 min_counts={}, max_counts={}, min_genes={}, min_cells={}\\\n",
    "#                 \\n\\n\\n\\n\\n\".format(hue,len(adata),len(adata.var.index),min_counts, max_counts, min_genes, min_cells))\n",
    "# plt.show()\n",
    "\n",
    "\n",
    "def preprocess_of_UMAP(adata):\n",
    "    # Normalization scaling\n",
    "    sc.pp.normalize_total(adata)\n",
    "    sc.pp.log1p(adata)\n",
    "    # Scale data to unit variance and zero mean\n",
    "    sc.pp.regress_out(adata, [\"total_counts\"])\n",
    "    sc.pp.scale(adata)\n",
    "    return adata\n",
    "\n",
    "\n",
    "def save_pos_on_UMAP(adata, out_dir):\n",
    "    try:\n",
    "        adata_coor = pd.DataFrame(\n",
    "            adata.obsm[\"X_umap\"], columns=[\"Coor_X\", \"Coor_Y\"], index=adata.obs.index\n",
    "        )\n",
    "        df = pd.concat(\n",
    "            [\n",
    "                adata_coor[\"Coor_X\"],\n",
    "                adata_coor[\"Coor_Y\"],\n",
    "                pd.DataFrame(adata.obs.index),\n",
    "                adata.obs.leiden,\n",
    "            ],\n",
    "            axis=1,\n",
    "        )\n",
    "        df.to_csv(out_dir)\n",
    "    except KeyError:\n",
    "        print('X_umap not found, please perform umap first.')\n",
    "\n",
    "\n",
    "def save_cell_cluster(\n",
    "    adata,\n",
    "    out_path,\n",
    "    st_point,\n",
    "    cell_num,\n",
    "    name=\"leiden\",\n",
    "):\n",
    "    raw_clu = dict(adata.obs[name])\n",
    "    cluster = dict()\n",
    "    for cell_num in raw_clu.keys():\n",
    "        cluster[cell_num] = -1\n",
    "\n",
    "    for cell in raw_clu.keys():\n",
    "        cluster[int(cell) - st_point] = int(raw_clu[cell])\n",
    "\n",
    "    with open(out_path, \"wb\") as handle:\n",
    "        pickle.dump(cluster, handle)\n",
    "\n",
    "\n",
    "def UMAP_genes_plot(adata, FOI='', size=0.1, save=False, out_path='./', datatype='direct', dataset=[], vmax=None):\n",
    "    n_pcs = len(adata.uns['pca']['variance'])\n",
    "    n_neighbors = adata.uns['neighbors']['params']['n_neighbors']\n",
    "    # Plot Gene distribution\n",
    "    ncols = int(-(-len(adata.var_names)**(1/2)//1))\n",
    "    nrows = -(-len(adata.var_names)//ncols)\n",
    "    fig, ax = plt.subplots(nrows=nrows, ncols=ncols, figsize=(ncols*4, nrows*4))\n",
    "    for pos, gene_name in enumerate(list(adata.var_names)):\n",
    "        sc.pl.umap(\n",
    "            adata[adata.obs.dataset.isin(dataset)],\n",
    "            size=size,\n",
    "            color=gene_name,\n",
    "            legend_fontweight=100,\n",
    "            legend_fontsize=20,\n",
    "            ax=ax[pos // ncols][pos % ncols],\n",
    "            show=False,\n",
    "            vmax=vmax,\n",
    "            vmin=0,\n",
    "        )\n",
    "        ax[pos // ncols][pos % ncols].set_xticklabels(\"\")\n",
    "        ax[pos // ncols][pos % ncols].set_yticklabels(\"\")\n",
    "\n",
    "    fig.suptitle(\n",
    "        \"{}\\nexp:{}\\nUMAP:{}\\n\".format(\n",
    "        f\"{FOI}_{datatype}_{dataset}_UMAP\",\n",
    "        f\"cell_num={len(adata)}\",\n",
    "        f\"n_neighbors={n_neighbors}, n_pcs={n_pcs}\"),\n",
    "        fontsize=20,\n",
    "    )\n",
    "    plt.tight_layout()\n",
    "\n",
    "    if save:\n",
    "        plt.savefig(f\"{out_path}/{FOI}_{datatype}_UMAP_genes.png\")\n",
    "        plt.close()\n",
    "    else:\n",
    "        plt.show()\n",
    "\n",
    "\n",
    "def UMAP_leiden_plot(adata, FOI='', color='leiden', save=False, out_path='./',dpi=300, datatype='direct', DOI=['PRISM3D'], legend_loc='on data', palette=False, size=1):\n",
    "    n_pcs = len(adata.uns['pca']['variance'])\n",
    "    n_neighbors = adata.uns['neighbors']['params']['n_neighbors']\n",
    "    resolution = adata.uns['leiden']['params']['resolution']\n",
    "    # Plot Cluster\n",
    "    fig, ax = plt.subplots(nrows=1, ncols=2, figsize=(20, 10))\n",
    "    \n",
    "    if palette:\n",
    "        sc.pl.umap(\n",
    "            adata[adata.obs.dataset.isin(DOI)],\n",
    "            size=size, color=color, palette=palette, \n",
    "            legend_loc=legend_loc, legend_fontsize=7,\n",
    "            ax=ax[0], show=False,\n",
    "        )\n",
    "\n",
    "        sc.pl.umap(\n",
    "            adata,\n",
    "            size=size, color=\"dataset\",\n",
    "            legend_fontweight=100, legend_fontsize=20,\n",
    "            ax=ax[1], show=False,\n",
    "        )\n",
    "    else:\n",
    "        sc.pl.umap(\n",
    "            adata[adata.obs.dataset.isin(DOI)],\n",
    "            size=size, color=color,\n",
    "            legend_loc=legend_loc, legend_fontsize=7,\n",
    "            ax=ax[0], show=False,\n",
    "        )\n",
    "\n",
    "        sc.pl.umap(\n",
    "            adata,\n",
    "            size=size, color=\"dataset\",\n",
    "            legend_fontweight=100, legend_fontsize=20,\n",
    "            ax=ax[1], show=False,\n",
    "        )\n",
    "    fig.suptitle(\n",
    "        \"{}\\nexp:{}\\nUMAP:{}\\n\".format(\n",
    "        f\"{FOI}_{datatype}_cluster\",\n",
    "        f\"cell_num={len(adata)}\",\n",
    "        f\"n_neighbors={n_neighbors}, n_pcs={n_pcs}, resolution={resolution}\"),\n",
    "        fontsize=20,\n",
    "    )\n",
    "    plt.tight_layout()\n",
    "    if save:\n",
    "        if out_path.endswith('.png'):    \n",
    "            plt.savefig(f\"{out_path}\", bbox_inches = 'tight', dpi=dpi)\n",
    "        else:\n",
    "            plt.savefig(f\"{out_path}\", bbox_inches = 'tight')\n",
    "        plt.close()\n",
    "    else:\n",
    "        plt.show()\n",
    "\n",
    "\n",
    "def leiden_QC_plot(adata, color='leiden'):\n",
    "    # cluster QC\n",
    "    g = sns.JointGrid(\n",
    "        data=adata.obs,\n",
    "        x=\"total_counts\",\n",
    "        y=\"n_genes_by_counts\",\n",
    "        height=5,\n",
    "        ratio=2,\n",
    "        hue=color,\n",
    "    )\n",
    "    g.plot_joint(sns.scatterplot, s=40, alpha=0.3)\n",
    "    g.plot_marginals(sns.kdeplot)\n",
    "    g.set_axis_labels(\"total_counts\", \"n_genes_by_counts\", fontsize=8)\n",
    "    g.fig.set_figwidth(3)\n",
    "    g.fig.set_figheight(3)\n",
    "    plt.show()"
   ]
  },
  {
   "cell_type": "markdown",
   "metadata": {},
   "source": [
    "### functions for projection"
   ]
  },
  {
   "cell_type": "code",
   "execution_count": null,
   "metadata": {},
   "outputs": [],
   "source": [
    "# cell show\n",
    "import pandas as pd\n",
    "import numpy as np\n",
    "from scipy.spatial import ConvexHull\n",
    "import matplotlib.pyplot as plt\n",
    "\n",
    "\n",
    "plt.style.use(\"default\")  # alternative: 'dark_background'\n",
    "\n",
    "\n",
    "def create_hull(adata, clus_obs=\"leiden\", cont_thre=15, rna_pos=[]):\n",
    "    factor_data = {\n",
    "        \"Cell_Index\": [str(_) for _ in adata.obs.index],\n",
    "        \"Cluster\": [int(_) for _ in adata.obs[clus_obs]],\n",
    "    }\n",
    "    factor = pd.DataFrame(factor_data).set_index(\"Cell_Index\")\n",
    "    cluster_num = np.unique(factor[\"Cluster\"])\n",
    "\n",
    "    type_indices = {}\n",
    "    for cell_type in cluster_num:\n",
    "        type_indices[cell_type] = list(factor[factor[\"Cluster\"] == cell_type].index)\n",
    "\n",
    "    hulls = {}\n",
    "    df_group = rna_pos.groupby(\"Cell Index\")\n",
    "\n",
    "    for group in tqdm(df_group, desc=\"hull\"):\n",
    "        coordinates = group[1][[\"Y\", \"X\"]].values\n",
    "        if len(coordinates) < cont_thre:\n",
    "            continue\n",
    "        try:\n",
    "            hull = ConvexHull(coordinates)\n",
    "        except:\n",
    "            continue\n",
    "        coordinate_path = np.vstack(\n",
    "            (coordinates[hull.vertices, 0], coordinates[hull.vertices, 1])\n",
    "        ).T\n",
    "        hulls[group[0]] = coordinate_path\n",
    "    return hulls, type_indices\n",
    "\n",
    "\n",
    "def show_cluster(hulls, type_indices, cluster_list, cluster_colormap=[\"red\"] * 200, ax='', linewidth=0.1, name='projection', show=True, save=False, outpath=''):\n",
    "    cell = 0\n",
    "    for ind in cluster_list:\n",
    "        for idx in tqdm(type_indices[ind], desc=f'cell for cluster{ind}'):\n",
    "            idx = int(idx)\n",
    "            try:\n",
    "                ax.fill(\n",
    "                    hulls[idx][:, 1],\n",
    "                    hulls[idx][:, 0],\n",
    "                    color=cluster_colormap[ind],\n",
    "                    linewidth=linewidth,\n",
    "                    alpha=1,\n",
    "                )\n",
    "                cell += 1\n",
    "            except KeyError:\n",
    "                pass\n",
    "    ax.set_xlim([0, 45000])\n",
    "    ax.set_ylim([0, 40000])\n",
    "    ax.set_title(f\"{name}, cell_num={cell}\")\n",
    "    print(f'{cell} cells have been ploted.')\n",
    "    \n",
    "    if save:\n",
    "        plt.savefig(outpath)\n",
    "    elif show:\n",
    "        plt.show()\n",
    "    else:\n",
    "        pass    "
   ]
  },
  {
   "cell_type": "code",
   "execution_count": null,
   "metadata": {},
   "outputs": [],
   "source": [
    "# plot example\n",
    "# combine_adata_st = combine_adata[combine_adata.obs.dataset == 'st']\n",
    "# combine_adata_st.obs.index = [_.replace('-st','') for _ in combine_adata_st.obs.index]\n",
    "# hulls, type_indices = create_hull(combine_adata_st, clus_obs=\"leiden\", cont_thre=15)\n",
    "# show_cluster(hulls, type_indices, cluster_list, cluster_colormap=[\"red\"] * 200)"
   ]
  },
  {
   "cell_type": "markdown",
   "metadata": {},
   "source": [
    "### functions to threshold in cluster"
   ]
  },
  {
   "cell_type": "code",
   "execution_count": null,
   "metadata": {},
   "outputs": [],
   "source": [
    "def threshold_in_cluster(adata, marker_gene=[], thre_gene=['AFP','GPC3','ACTA2','PECAM1'], type_name=[], cluster_dict={}):\n",
    "# for cluster_gene in cluster_to_filter:\n",
    "    thre_min = [True] * len(marker_gene) + [False] * len(thre_gene)\n",
    "    gene_list = marker_gene + thre_gene\n",
    "    minima_dict = {}\n",
    "    for _ in gene_list:\n",
    "        minima_dict[_] = ''\n",
    "\n",
    "    cluster_list_temp=[]\n",
    "    for _ in cluster_dict.keys():\n",
    "        for name in type_name:\n",
    "            if name in _:\n",
    "                cluster_list_temp += [str(_) for _ in cluster_dict[_]]\n",
    "\n",
    "    cluster = adata[adata.obs.leiden.isin(cluster_list_temp)]\n",
    "\n",
    "    fig, ax = plt.subplots(nrows=1,ncols=len(thre_min),figsize=(24, 4))\n",
    "    for i, gene in enumerate(gene_list):\n",
    "        a = [float(_) for _ in cluster[:, gene].X]\n",
    "        sns.histplot(a, bins=20, stat='density', alpha= 1, kde=True,\n",
    "                    edgecolor='white', linewidth=0.5,\n",
    "                    log=True, \n",
    "                    ax=ax[i],\n",
    "                    line_kws=dict(color='black', alpha=0.7, linewidth=1.5, label='KDE'))\n",
    "        ax[i].get_lines()[0].set_color('red') # edit line color due to bug in sns v 0.11.0\n",
    "        ax[i].set_xlabel(gene)\n",
    "\n",
    "        y = ax[i].get_lines()[0].get_ydata()\n",
    "        minima_dict[gene] = [float(_/len(y)*(max(a)-min(a))+min(a)) for _ in argrelextrema(np.array(y), np.less)[0]]\n",
    "        # print(f'{gene}_minima: {minima_dict[gene]}')\n",
    "        fig.subplots_adjust(hspace=0.4)\n",
    "        fig.subplots_adjust(wspace=0.4)\n",
    "        fig.suptitle(f'distribution of cluster, marker gene={marker_gene}')\n",
    "    plt.show()\n",
    "\n",
    "    cluster.obs['tmp_leiden'] = ['-1']*len(cluster)\n",
    "    for _, gene in enumerate(gene_list):\n",
    "        minima = minima_dict[gene]\n",
    "        while True:\n",
    "            if len(minima) == 0:\n",
    "                minima = [0]\n",
    "                break\n",
    "            if minima[0] > 1 and gene != 'CPA3':\n",
    "                minima[0] = 0\n",
    "                break\n",
    "            if minima[0] < -1 and gene != 'CPA3':\n",
    "                minima.pop(0)\n",
    "                continue\n",
    "            break\n",
    "        \n",
    "        print(f'{gene}_thre: {minima[0]}')\n",
    "\n",
    "        if thre_min[_]:\n",
    "            tmp = cluster[cluster[:, gene].X > minima[0]]\n",
    "            cluster.obs['tmp_leiden'][tmp.obs.index] = ['1']*len(tmp)\n",
    "        else:\n",
    "            tmp = cluster[cluster[:, gene].X > minima[0]]\n",
    "            cluster.obs['tmp_leiden'][tmp.obs.index] = ['-1']*len(tmp)\n",
    "    \n",
    "    tmp = cluster[cluster.obs['tmp_leiden']=='-1']\n",
    "    adata.obs['tmp_leiden'][tmp.obs.index] = ['-2']*len(tmp)\n",
    "\n",
    "    cell_to_plot = len(cluster[cluster.obs['tmp_leiden']=='1'])\n",
    "    print(f'marker_gene={marker_gene}, {cell_to_plot} cells of {len(cluster)} cells left\\n')\n",
    "    return adata\n",
    "\n",
    "\n",
    "def collect_liver(combine_adata_st, tissue_obs='tissue', in_out_leiden='tmp_leiden'):\n",
    "    other_cluster = combine_adata_st[combine_adata_st.obs[in_out_leiden]=='-2']\n",
    "    liver = other_cluster[other_cluster.obs[tissue_obs] == \"liver\"]\n",
    "    combine_adata_st.obs[in_out_leiden] = list(combine_adata_st.obs[in_out_leiden])\n",
    "    combine_adata_st.obs[in_out_leiden][liver.obs.index] = [\"-1\"] * len(liver)\n",
    "    return combine_adata_st"
   ]
  },
  {
   "cell_type": "markdown",
   "metadata": {},
   "source": [
    "### functions for ROI"
   ]
  },
  {
   "cell_type": "code",
   "execution_count": null,
   "metadata": {},
   "outputs": [],
   "source": [
    "from skimage import io, transform, morphology\n",
    "def ROI_mask_load(input_path, out_path, save=False, blur=True):\n",
    "    ROI_mask = {}\n",
    "    for mask_file in os.listdir(input_path):\n",
    "        image = io.imread(os.path.join(input_path, mask_file))\n",
    "        if blur:\n",
    "            image = transform.rotate(image, angle=90, resize=True)\n",
    "            image = morphology.binary_dilation(image, footprint=morphology.disk(5))\n",
    "        ROI_mask[mask_file.replace('.tif','').replace('Mask', 'ROI')] = image\n",
    "        \n",
    "    ncols = int(-(-len(ROI_mask)**(1/2)//1))\n",
    "    nrows = -(-len(ROI_mask)//ncols)\n",
    "    fig, ax = plt.subplots(nrows=nrows, ncols=ncols, figsize=(ncols*4, nrows*4))\n",
    "    for pos, mask_name in enumerate(list(ROI_mask.keys())):\n",
    "        try:\n",
    "            ax[pos // ncols][pos % ncols].imshow(ROI_mask[mask_name])\n",
    "        except:\n",
    "            ax[pos // ncols][pos % ncols].imshow(ROI_mask[mask_name][0,:,:])\n",
    "        ax[pos // ncols][pos % ncols].set_title(mask_name)\n",
    "        ax[pos // ncols][pos % ncols].set_xlabel(\"\")\n",
    "        ax[pos // ncols][pos % ncols].set_ylabel(\"\")\n",
    "    fig.suptitle('Mask_of_ROIs', fontsize=20)\n",
    "    plt.tight_layout()\n",
    "\n",
    "    if save:\n",
    "        plt.savefig('{}/{}.png'.format(out_path, 'mask_of_ROIs'))\n",
    "    else:\n",
    "        plt.show()\n",
    "\n",
    "    return ROI_mask"
   ]
  },
  {
   "cell_type": "markdown",
   "metadata": {},
   "source": [
    "### funtions for heatmap matrix"
   ]
  },
  {
   "cell_type": "code",
   "execution_count": null,
   "metadata": {},
   "outputs": [],
   "source": [
    "def matrix_for_heatmap(adata_1, adata_2, adata_ori, obs_1=\"leiden_type\", obs_2=\"leiden\", cluster_of_intere=list, sc_cluster_of_intere=list, save=False, whole=False):\n",
    "    \n",
    "    raw_cluster_num = len(cluster_of_intere)\n",
    "    sc_cluster_num = len(sc_cluster_of_intere)\n",
    "    raw_data_matrix = np.array([])\n",
    "    raw_data_whole_matrix = np.array([])\n",
    "    sc_data_matrix = np.array([])\n",
    "\n",
    "    for cluster_num in cluster_of_intere:\n",
    "        if whole:\n",
    "            raw_add_whole = np.array(\n",
    "                [\n",
    "                    np.mean(\n",
    "                        adata_ori[adata_1[adata_1.obs[obs_1] == str(cluster_num)].obs.index].X,\n",
    "                        axis=0,\n",
    "                    )\n",
    "                ]\n",
    "            )\n",
    "            if raw_data_whole_matrix.size == 0:\n",
    "                raw_data_whole_matrix = raw_add_whole\n",
    "            else:\n",
    "                raw_data_whole_matrix = np.concatenate((raw_data_whole_matrix, raw_add_whole), axis=0)\n",
    "\n",
    "        raw_add = np.array([np.mean(adata_1.X[adata_1.obs[obs_1] == str(cluster_num)], axis=0)])\n",
    "        if raw_data_matrix.size == 0:\n",
    "            raw_data_matrix = raw_add\n",
    "        else:\n",
    "            raw_data_matrix = np.concatenate((raw_data_matrix, raw_add), axis=0)\n",
    "\n",
    "\n",
    "    for cluster_num in sc_cluster_of_intere:\n",
    "        sc_add = np.array([np.mean(adata_2.X[adata_2.obs[obs_2] == str(cluster_num)], axis=0)])\n",
    "        if sc_data_matrix.size == 0:\n",
    "            sc_data_matrix = sc_add\n",
    "        else:\n",
    "            sc_data_matrix = np.concatenate((sc_data_matrix, sc_add), axis=0)\n",
    "\n",
    "    matrix = np.concatenate((raw_data_matrix, sc_data_matrix), axis=0)\n",
    "    corr_matrix = np.corrcoef(matrix)\n",
    "    if whole:\n",
    "        return raw_data_whole_matrix, sc_data_matrix, corr_matrix[0 : raw_cluster_num, raw_cluster_num : raw_cluster_num + sc_cluster_num]\n",
    "    else:\n",
    "        return raw_data_matrix, sc_data_matrix, corr_matrix[0 : raw_cluster_num, raw_cluster_num : raw_cluster_num + sc_cluster_num]"
   ]
  },
  {
   "cell_type": "markdown",
   "metadata": {},
   "source": [
    "## workdir"
   ]
  },
  {
   "cell_type": "code",
   "execution_count": null,
   "metadata": {},
   "outputs": [],
   "source": [
    "workdir = r'E:\\TMC\\PRISM_Code\\dataset\\processed\\20230704_PRISM3D_mousebrain_CTX_rm_doublet\\analysis_celltyping'\n",
    "out_path = os.path.join(workdir, \"cell_typing\")\n",
    "os.makedirs(out_path, exist_ok=True)"
   ]
  },
  {
   "cell_type": "markdown",
   "metadata": {},
   "source": [
    "# exp data load and preprocess"
   ]
  },
  {
   "cell_type": "code",
   "execution_count": null,
   "metadata": {},
   "outputs": [],
   "source": [
    "# load expression matrix\n",
    "raw_adata = pd.read_csv(os.path.join(workdir, \"expression_matrix.csv\"), index_col=0)\n",
    "adata = sc.AnnData(raw_adata)\n",
    "adata.var.index = adata.var.index.str.upper()\n",
    "adata.obs['dataset'] = [\"PRISM3D\"] * len(adata)\n",
    "adata.obs['tissue'] = ['mousebrain_CTX'] * len(adata)\n",
    "adata.obs.index = [int(_) for _ in adata.obs.index]\n",
    "adata.raw = adata"
   ]
  },
  {
   "cell_type": "code",
   "execution_count": null,
   "metadata": {},
   "outputs": [],
   "source": [
    "# load spatial information\n",
    "centroid = pd.read_csv(os.path.join(workdir, 'dapi_predict.csv'), index_col=0)\n",
    "centroid_sub = centroid.loc[adata.obs.index]\n",
    "adata.obsm['spatial'] = np.array([centroid_sub['y_in_pix'], centroid_sub['x_in_pix']]).T\n",
    "adata.obsm['spatial3d'] = np.array([centroid_sub['x_in_pix'], \n",
    "                                    centroid_sub['y_in_pix'], \n",
    "                                    centroid_sub['z_in_pix']*3.36]).T"
   ]
  },
  {
   "cell_type": "markdown",
   "metadata": {},
   "source": [
    "## Preprocess"
   ]
  },
  {
   "cell_type": "code",
   "execution_count": null,
   "metadata": {},
   "outputs": [],
   "source": [
    "# process of gene name\n",
    "adata, origin_cell_num, filtered_cell_num = general_preprocess(adata, min_genes=1, min_counts=5, max_counts=150, min_cells=1, auto_filter=True)\n",
    "\n",
    "# copy the meta data of adata\n",
    "adata_meta = adata.copy()"
   ]
  },
  {
   "cell_type": "markdown",
   "metadata": {},
   "source": [
    "# direct leiden\n"
   ]
  },
  {
   "cell_type": "markdown",
   "metadata": {},
   "source": [
    "## process"
   ]
  },
  {
   "cell_type": "code",
   "execution_count": null,
   "metadata": {},
   "outputs": [],
   "source": [
    "adata = adata_meta.copy()\n",
    "# preprocess of UMAP\n",
    "adata = preprocess_of_UMAP(adata)\n",
    "\n",
    "# compute pca\n",
    "sc.tl.pca(adata)\n",
    "sc.pl.pca_variance_ratio(adata, log=False)"
   ]
  },
  {
   "cell_type": "code",
   "execution_count": null,
   "metadata": {},
   "outputs": [],
   "source": [
    "# select the num of pc\n",
    "n_pcs=20\n",
    "sc.tl.pca(adata, n_comps=n_pcs)                                                                               "
   ]
  },
  {
   "cell_type": "code",
   "execution_count": null,
   "metadata": {},
   "outputs": [],
   "source": [
    "# Run UMAP\n",
    "sc.pp.neighbors(adata, n_neighbors=50, n_pcs=n_pcs)\n",
    "sc.tl.umap(adata)"
   ]
  },
  {
   "cell_type": "code",
   "execution_count": null,
   "metadata": {},
   "outputs": [],
   "source": [
    "# Run Leiden cluster\n",
    "sc.tl.leiden(adata, resolution=1)"
   ]
  },
  {
   "cell_type": "markdown",
   "metadata": {},
   "source": [
    "## overview"
   ]
  },
  {
   "cell_type": "markdown",
   "metadata": {},
   "source": [
    "### cell num of each leiden cluster"
   ]
  },
  {
   "cell_type": "code",
   "execution_count": null,
   "metadata": {},
   "outputs": [],
   "source": [
    "a = [len(adata[adata.obs.leiden == _]) for _ in adata.obs.leiden.unique()]\n",
    "fig, ax = plt.subplots(figsize=(7,3))\n",
    "sns.histplot(a, bins=30, stat='count', alpha=1, kde=True,\n",
    "            edgecolor='white', linewidth=0.5,\n",
    "            # log=True, \n",
    "            ax=ax,\n",
    "            line_kws=dict(color='black', alpha=0.7, linewidth=1.5, label='KDE'),\n",
    "            # binrange=[0,100]\n",
    "            )\n",
    "plt.show()\n",
    "\n",
    "adata_thre = adata[adata.obs.leiden.isin([_ for _ in adata.obs.leiden.unique() if len(adata[adata.obs.leiden == _]) > 100])]"
   ]
  },
  {
   "cell_type": "markdown",
   "metadata": {},
   "source": [
    "### boxplot"
   ]
  },
  {
   "cell_type": "code",
   "execution_count": null,
   "metadata": {},
   "outputs": [],
   "source": [
    "unknown_cluster = [str(_) for _ in sorted([int(_) for _ in adata.obs.leiden.unique()])]\n",
    "fig, ax = plt.subplots(ncols=1, nrows=len(unknown_cluster),figsize =(25, 100))\n",
    "for _, cluster_num  in enumerate(unknown_cluster):\n",
    "    data = adata[adata.obs['leiden'] == cluster_num].X\n",
    "    ax[_].boxplot(data, flierprops={'marker': 'o', 'markersize': 2, 'markerfacecolor': 'fuchsia'})\n",
    "    ax[_].set_xticklabels(list(adata.var_names))\n",
    "    ax[_].set_title(f'cluster{cluster_num}')\n",
    "plt.show()"
   ]
  },
  {
   "cell_type": "markdown",
   "metadata": {},
   "source": [
    "### umap by gene"
   ]
  },
  {
   "cell_type": "code",
   "execution_count": null,
   "metadata": {},
   "outputs": [],
   "source": [
    "UMAP_genes_plot(adata, FOI=os.path.split(workdir)[-1], save=False, datatype='direct', dataset=[\"PRISM3D\"], size=10)"
   ]
  },
  {
   "cell_type": "markdown",
   "metadata": {},
   "source": [
    "### umap by leiden"
   ]
  },
  {
   "cell_type": "code",
   "execution_count": null,
   "metadata": {},
   "outputs": [],
   "source": [
    "UMAP_leiden_plot(adata, FOI=os.path.split(workdir)[-1], color='leiden', save=False, out_path=os.path.join(workdir, 'cell_typing'), datatype='direct', size=20)\n",
    "QC_plot(adata, hue='leiden')"
   ]
  },
  {
   "cell_type": "markdown",
   "metadata": {},
   "source": [
    "## annotate interested clusters"
   ]
  },
  {
   "cell_type": "markdown",
   "metadata": {},
   "source": [
    "### spatial preview"
   ]
  },
  {
   "cell_type": "code",
   "execution_count": null,
   "metadata": {},
   "outputs": [],
   "source": [
    "adata.obs.index = [int(_) for _ in adata.obs.index]"
   ]
  },
  {
   "cell_type": "code",
   "execution_count": null,
   "metadata": {},
   "outputs": [],
   "source": [
    "# load spatial information\n",
    "centroid = pd.read_csv(os.path.join(workdir, 'dapi_predict.csv'), index_col=0)\n",
    "centroid_sub = centroid.loc[adata.obs.index]\n",
    "adata.obsm['spatial'] = np.array([centroid_sub['y_in_pix'], centroid_sub['x_in_pix']]).T\n",
    "adata.obsm['spatial3d'] = np.array([centroid_sub['x_in_pix'], \n",
    "                                    centroid_sub['y_in_pix'], \n",
    "                                    centroid_sub['z_in_pix']*3.36]).T"
   ]
  },
  {
   "cell_type": "code",
   "execution_count": null,
   "metadata": {},
   "outputs": [],
   "source": [
    "from mpl_toolkits.mplot3d import Axes3D\n",
    "import matplotlib.gridspec as gridspec\n",
    "\n",
    "\n",
    "group = [5, 9]\n",
    "group = [str(_) for _ in group]\n",
    "tmp = adata[adata.obs.leiden.isin(group)]\n",
    "\n",
    "\n",
    "fig = plt.figure(figsize=(20, 11))\n",
    "gs = gridspec.GridSpec(10, 10)\n",
    "\n",
    "ax_box = fig.add_subplot(gs[:2, :])\n",
    "data = adata[adata.obs['leiden'].isin(group)].X\n",
    "ax_box.boxplot(data, flierprops={'marker': 'o', 'markersize': 2, 'markerfacecolor': 'fuchsia'})\n",
    "ax_box.set_xticklabels(list(adata.var_names))\n",
    "ax_box.set_title(f'cluster{group}')\n",
    "\n",
    "ax_2d = fig.add_subplot(gs[2:, :6])\n",
    "ax_2d.invert_yaxis()\n",
    "sc.pl.embedding(\n",
    "    tmp, basis=\"spatial\", color=\"leiden\", palette=['red', 'blue'], #palette=['brown'] * len(group),\n",
    "    size=50, alpha=1, ax=ax_2d, show=False)\n",
    "\n",
    "ax_3d = fig.add_subplot(gs[2:, 6:], projection='3d', )\n",
    "sc.pl.embedding(\n",
    "    tmp, basis=\"spatial3d\", projection=\"3d\", color=\"leiden\", palette=['red', 'blue'], #palette=['brown'] * len(group),\n",
    "    size=5, alpha=0.5, ax=ax_3d, show=False)\n",
    "elev, azim = 90, 0\n",
    "ax_3d.view_init(elev=elev, azim=azim)\n",
    "\n",
    "plt.tight_layout()\n",
    "plt.show()"
   ]
  },
  {
   "cell_type": "markdown",
   "metadata": {},
   "source": [
    "### relabel mapping"
   ]
  },
  {
   "cell_type": "code",
   "execution_count": null,
   "metadata": {},
   "outputs": [],
   "source": [
    "cluster_dict = {\n",
    "    \"Ex-2or3\":[7, 12],\n",
    "    \"Ex-4\":[5, 9],\n",
    "    \"Ex-5\":[],\n",
    "    \"Ex-6a\":[0, 17],\n",
    "    \"Ex-6b\":[13],\n",
    "\n",
    "    \"In-Sst\":[14],\n",
    "    \"In-Pvalb\":[4],\n",
    "    \"In-Vip\":[10],\n",
    "    \"In-Lamp5\":[],\n",
    "\n",
    "    \"Glial-Astrocyte\":[8, 16],\n",
    "    \"Glial-Microglia\":[2],\n",
    "    \"Glial-Oligodendrocyte\":[11],\n",
    "}\n",
    "\n",
    "cluster_rough_dict = {\n",
    "    \"Ex\":[],\n",
    "    \"In\":[],\n",
    "    \"Glial\":[],    \n",
    "}\n",
    "for rough_type in cluster_rough_dict.keys():\n",
    "    for fine_type in cluster_dict.keys():\n",
    "        if rough_type in fine_type:\n",
    "            cluster_rough_dict[rough_type] += cluster_dict[fine_type]"
   ]
  },
  {
   "cell_type": "code",
   "execution_count": null,
   "metadata": {},
   "outputs": [],
   "source": [
    "subtype_colormap = {\n",
    "    \"Ex-2or3\":(0,0,1), \"Ex-4\":(0,1,0), \"Ex-5\":(1,1,0), \"Ex-6a\":(1,0,1), \"Ex-6b\":(1,0,0),\n",
    "    \"In-Lamp5\":(1,0.5,0), \"In-Sst\":(1,0.8,0), \"In-Pvalb\":(0.5,0.5,0.5), \"In-Vip\":(1,0.35,0), \n",
    "    \"Glial-Astrocyte\":(1,0.72,0.75), \"Glial-Microglia\":(0,1,1), \"Glial-Oligodendrocyte\":(0.33,0.33,1),\n",
    "}"
   ]
  },
  {
   "cell_type": "markdown",
   "metadata": {},
   "source": [
    "### relabel of num and cluster name"
   ]
  },
  {
   "cell_type": "code",
   "execution_count": null,
   "metadata": {},
   "outputs": [],
   "source": [
    "def re_num_leiden(combine_adata_st, cluster_dict, in_leiden='tmp_leiden', out_leiden='new_leiden', out_type='type'):\n",
    "    combine_adata_st.obs[out_leiden] = [\"-2\"] * len(combine_adata_st)\n",
    "    combine_adata_st.obs[out_type] = [\"other\"] * len(combine_adata_st)\n",
    "    for cluster_num, cluster_name in enumerate(cluster_dict.keys()):\n",
    "        for sub_cluster in cluster_dict[cluster_name]:\n",
    "            temp = combine_adata_st[combine_adata_st.obs[in_leiden] == str(sub_cluster)]\n",
    "            combine_adata_st.obs[out_leiden][temp.obs.index] = [str(cluster_num)] * len(temp)\n",
    "            combine_adata_st.obs[out_type][temp.obs.index] = [str(cluster_name)] * len(temp)\n",
    "    temp = combine_adata_st[combine_adata_st.obs[out_leiden] == '-2']\n",
    "    combine_adata_st.obs[out_type][temp.obs.index] = ['other'] * len(temp)\n",
    "    return combine_adata_st"
   ]
  },
  {
   "cell_type": "code",
   "execution_count": null,
   "metadata": {},
   "outputs": [],
   "source": [
    "# rename leidens based on cluster_dict\n",
    "adata = re_num_leiden(adata, cluster_dict, in_leiden='leiden', out_leiden='leiden_subtype', out_type='subtype')\n",
    "adata = re_num_leiden(adata, cluster_rough_dict, in_leiden='leiden', out_leiden='leiden_type', out_type='type')\n",
    "adata.obs = adata.obs.dropna(axis=1)"
   ]
  },
  {
   "cell_type": "code",
   "execution_count": null,
   "metadata": {},
   "outputs": [],
   "source": [
    "counts = []\n",
    "for cell_type in cluster_dict.keys():\n",
    "    cell_num = adata[adata.obs.subtype == cell_type].obs.subtype.count()\n",
    "    print(f'{cell_type}: {cell_num}')\n",
    "    counts.append(cell_num)\n",
    "print('total_exempt_other:',len(adata[adata.obs.subtype.isin(cluster_dict.keys())]))\n",
    "print('total:',len(adata))"
   ]
  },
  {
   "cell_type": "code",
   "execution_count": null,
   "metadata": {},
   "outputs": [],
   "source": [
    "plt.figure(figsize=(8, 8))\n",
    "plt.pie(counts, labels=cluster_dict.keys(), autopct='%1.1f%%', startangle=140, colors=subtype_colormap.values())\n",
    "plt.axis('equal')  # Equal aspect ratio ensures the pie chart is circular.\n",
    "plt.title('{} Cell Type Distribution'.format(workdir.split('_')[-3]))\n",
    "plt.tight_layout()\n",
    "plt.savefig(os.path.join(workdir, 'cell_typing', 'annotated_subtype_cell_num.png'), bbox_inches='tight', dpi=300)"
   ]
  },
  {
   "cell_type": "code",
   "execution_count": null,
   "metadata": {},
   "outputs": [],
   "source": [
    "# save the adata\n",
    "adata.write_h5ad(os.path.join(workdir, 'cell_typing', 'direct', 'adata.h5ad'))\n",
    "\n",
    "# Writing the list to a text file\n",
    "with open(os.path.join(workdir, 'cell_typing', 'direct', 'annotated_subtype.txt'), 'w') as file:\n",
    "    for item in cluster_dict.keys():\n",
    "        file.write(f\"{item}\\n\")\n",
    "\n",
    "with open(os.path.join(workdir, 'cell_typing', 'direct', 'annotated_type.txt'), 'w') as file:\n",
    "    for item in cluster_rough_dict.keys():\n",
    "        file.write(f\"{item}\\n\")\n",
    "\n",
    "# cell num\n",
    "with open(os.path.join(workdir, 'cell_typing', 'direct', 'annotated_subtype_cell_num.txt'), 'w') as file:\n",
    "    for cell_type in cluster_dict.keys():\n",
    "        cell_num = adata[adata.obs.subtype == cell_type].obs.subtype.count()\n",
    "        file.write(f\"{cell_type}: {cell_num}\\n\")\n",
    "    file.write('total_exempt_other: {}\\n'.format(len(adata[adata.obs.subtype.isin(cluster_dict.keys())])))\n",
    "    file.write('total_num: {}\\n'.format(len(adata)))\n",
    "\n",
    "with open(os.path.join(workdir, 'cell_typing', 'direct', 'annotated_type_cell_num.txt'), 'w') as file:\n",
    "    for cell_type in cluster_rough_dict.keys():\n",
    "        cell_num = adata[adata.obs.type == cell_type].obs.type.count()\n",
    "        file.write(f\"{cell_type}: {cell_num}\\n\")\n",
    "    file.write('total_exempt_other: {}\\n'.format(len(adata[adata.obs.type.isin(cluster_rough_dict.keys())])))\n",
    "    file.write('total_num: {}\\n'.format(len(adata)))"
   ]
  },
  {
   "cell_type": "markdown",
   "metadata": {},
   "source": [
    "## spatial projection"
   ]
  },
  {
   "cell_type": "code",
   "execution_count": null,
   "metadata": {},
   "outputs": [],
   "source": [
    "adata = sc.read_h5ad(os.path.join(workdir, 'direct', 'adata.h5ad'))"
   ]
  },
  {
   "cell_type": "code",
   "execution_count": null,
   "metadata": {},
   "outputs": [],
   "source": [
    "from mpl_toolkits.mplot3d import Axes3D\n",
    "import matplotlib.gridspec as gridspec\n",
    "\n",
    "tmp = adata.copy()\n",
    "\n",
    "fig = plt.figure(figsize=(12, 5))\n",
    "gs = gridspec.GridSpec(1, 10)\n",
    "ax_2d = fig.add_subplot(gs[0, :5])\n",
    "sc.pl.embedding(\n",
    "    tmp, \n",
    "    basis=\"spatial\", color=\"subtype\", #palette=palette,\n",
    "    size=50, alpha=1, ax=ax_2d, show=False)\n",
    "ax_2d.set_xlim([-100, 6500])\n",
    "ax_2d.set_ylim([-100, 2000])\n",
    "ax_2d.invert_yaxis()\n",
    "\n",
    "ax_3d = fig.add_subplot(gs[0, 5:], projection='3d', )\n",
    "sc.pl.embedding(tmp,\n",
    "                basis=\"spatial3d\", projection=\"3d\", color=\"subtype\", #palette=palette,\n",
    "                size=1, alpha=1, ax=ax_3d, show=False)\n",
    "ax_3d.set_xlim([-200, 2200])\n",
    "ax_3d.set_ylim([-200, 6500])\n",
    "ax_3d.set_zlim([-100, 200])\n",
    "\n",
    "# Set view angle\n",
    "elev, azim = 90, 0\n",
    "ax_3d.view_init(elev=elev, azim=azim)\n",
    "\n",
    "plt.tight_layout()\n",
    "# plt.savefig(os.path.join(workdir, 'cell_typing', 'spatial_overview.png'), bbox_inches='tight', dpi=300)\n",
    "plt.show()"
   ]
  },
  {
   "cell_type": "code",
   "execution_count": null,
   "metadata": {},
   "outputs": [],
   "source": [
    "from mpl_toolkits.mplot3d import Axes3D\n",
    "import matplotlib.gridspec as gridspec\n",
    "\n",
    "tmp = combine_adata_st[combine_adata_st.obs.subtype.isin([\"Ex-2or3\", 'Ex-4', 'Ex-5', 'Ex-6a', 'Ex-6b'])]\n",
    "\n",
    "fig = plt.figure(figsize=(12, 5))\n",
    "gs = gridspec.GridSpec(1, 10)\n",
    "ax_2d = fig.add_subplot(gs[0, :5])\n",
    "sc.pl.embedding(\n",
    "    tmp, \n",
    "    basis=\"spatial\", color=\"subtype\", #palette=palette,\n",
    "    size=70, alpha=1, ax=ax_2d, show=False)\n",
    "ax_2d.set_xlim([-100, 6500])\n",
    "ax_2d.set_ylim([-100, 2000])\n",
    "ax_2d.invert_yaxis()\n",
    "\n",
    "ax_3d = fig.add_subplot(gs[0, 5:], projection='3d', )\n",
    "sc.pl.embedding(tmp,\n",
    "                basis=\"spatial3d\", projection=\"3d\", color=\"subtype\", #palette=palette,\n",
    "                size=1, alpha=1, ax=ax_3d, show=False)\n",
    "ax_3d.set_xlim([-200, 2200])\n",
    "ax_3d.set_ylim([-200, 6500])\n",
    "ax_3d.set_zlim([-100, 200])\n",
    "\n",
    "# Set view angle\n",
    "elev, azim = 90, 0\n",
    "ax_3d.view_init(elev=elev, azim=azim)\n",
    "\n",
    "plt.tight_layout()\n",
    "# plt.savefig(os.path.join(workdir, 'cell_typing', 'spatial_overview.png'), bbox_inches='tight', dpi=300)\n",
    "plt.show()"
   ]
  },
  {
   "cell_type": "markdown",
   "metadata": {},
   "source": [
    "# harmony combine"
   ]
  },
  {
   "cell_type": "markdown",
   "metadata": {},
   "source": [
    "## load sc data"
   ]
  },
  {
   "cell_type": "code",
   "execution_count": null,
   "metadata": {},
   "outputs": [],
   "source": [
    "adata_sc1 = sc.read_h5ad(r'e:\\TMC\\cell_typing\\dataset_sc_rnaseq\\sc_data_mousebrain\\cache\\l1_cortex1.h5ad')\n",
    "adata_sc2 = sc.read_h5ad(r'e:\\TMC\\cell_typing\\dataset_sc_rnaseq\\sc_data_mousebrain\\cache\\l1_cortex2.h5ad')\n",
    "adata_sc3 = sc.read_h5ad(r'e:\\TMC\\cell_typing\\dataset_sc_rnaseq\\sc_data_mousebrain\\cache\\l1_cortex3.h5ad')\n",
    "adata_sc1.var_names_make_unique()\n",
    "adata_sc2.var_names_make_unique()\n",
    "adata_sc3.var_names_make_unique()\n",
    "adata_sc1.obs['dataset'] = ['mousebrain_CTX1'] * len(adata_sc1)\n",
    "adata_sc2.obs['dataset'] = ['mousebrain_CTX2'] * len(adata_sc2)\n",
    "adata_sc3.obs['dataset'] = ['mousebrain_CTX3'] * len(adata_sc3)"
   ]
  },
  {
   "cell_type": "code",
   "execution_count": null,
   "metadata": {},
   "outputs": [],
   "source": [
    "adata_sc = adata_sc1.concatenate(adata_sc2, adata_sc3, batch_key=\"dataset\", batch_categories=[\"mousebrain_CTX1\", \"mousebrain_CTX2\", 'mousebrain_CTX3'])\n",
    "# adata_sc = adata_sc2.copy()\n",
    "adata_sc.var.index = adata_sc.var.index.str.upper()\n",
    "index_series = pd.Series(adata_sc.var.index)\n",
    "index_series = index_series.replace({'3110035E14RIK': 'VXN'})\n",
    "adata_sc.var.index = pd.Index(index_series)\n",
    "adata_sc.var_names_make_unique()\n",
    "\n",
    "# process of gene name\n",
    "adata_sc, origin_cell_num, filtered_cell_num = general_preprocess(adata_sc, min_genes=0, min_counts=500, max_counts=25000, min_cells=0, auto_filter=False)\n",
    "adata_sc_meta = adata_sc.copy()"
   ]
  },
  {
   "cell_type": "code",
   "execution_count": null,
   "metadata": {},
   "outputs": [],
   "source": [
    "list_of_variable_names = adata.var_names\n",
    "adata_sc_subset = adata_sc[:, list_of_variable_names]\n",
    "adata_sc_subset = preprocess_of_UMAP(adata_sc_subset)"
   ]
  },
  {
   "cell_type": "markdown",
   "metadata": {},
   "source": [
    "## process"
   ]
  },
  {
   "cell_type": "code",
   "execution_count": null,
   "metadata": {},
   "outputs": [],
   "source": [
    "adata_sc_subset1 = adata_sc_subset[adata_sc_subset.obs.dataset == \"mousebrain_CTX1\"]\n",
    "adata_sc_subset2 = adata_sc_subset[adata_sc_subset.obs.dataset == \"mousebrain_CTX2\"]\n",
    "adata_sc_subset3 = adata_sc_subset[adata_sc_subset.obs.dataset == \"mousebrain_CTX3\"]\n",
    "combine_adata = adata.concatenate(adata_sc_subset1, adata_sc_subset2, adata_sc_subset3, batch_key=\"dataset\", batch_categories=[\"PRISM3D\", \"mousebrain_CTX1\", \"mousebrain_CTX2\", \"mousebrain_CTX3\"])\n",
    "\n",
    "print(\"origin_gene_num:\", len(adata.var.index))\n",
    "print(\"combine_gene_num:\", len(combine_adata.var.index))\n",
    "print(\"Genes_not_matched:\", ','.join(list(set(adata.var.index) - set(combine_adata.var.index))))"
   ]
  },
  {
   "cell_type": "code",
   "execution_count": null,
   "metadata": {},
   "outputs": [],
   "source": [
    "sc.tl.pca(combine_adata, n_comps=29)\n",
    "sc.pl.pca_variance_ratio(combine_adata, log=False)\n",
    "\n",
    "h_pcs = 29\n",
    "sc.tl.pca(combine_adata, n_comps=h_pcs)\n",
    "sc_cell_num = len(combine_adata) - len(adata)\n",
    "print(combine_adata)"
   ]
  },
  {
   "cell_type": "code",
   "execution_count": null,
   "metadata": {},
   "outputs": [],
   "source": [
    "import scanpy.external as sce\n",
    "\n",
    "sce.pp.harmony_integrate(\n",
    "    combine_adata,\n",
    "    \"dataset\",\n",
    "    \"X_pca\",\n",
    "    \"X_pca_harmony\",\n",
    "    max_iter_harmony=30,\n",
    "    # max_iter_kmeans=30,\n",
    ")"
   ]
  },
  {
   "cell_type": "code",
   "execution_count": null,
   "metadata": {},
   "outputs": [],
   "source": [
    "neighbor = 50\n",
    "sc.pp.neighbors(combine_adata, n_neighbors=neighbor, use_rep=\"X_pca_harmony\")\n",
    "sc.tl.umap(combine_adata)"
   ]
  },
  {
   "cell_type": "code",
   "execution_count": null,
   "metadata": {},
   "outputs": [],
   "source": [
    "leiden_resolution=1\n",
    "sc.tl.leiden(combine_adata, resolution=leiden_resolution)"
   ]
  },
  {
   "cell_type": "markdown",
   "metadata": {},
   "source": [
    "## overview"
   ]
  },
  {
   "cell_type": "markdown",
   "metadata": {},
   "source": [
    "### cell num of each leiden cluster"
   ]
  },
  {
   "cell_type": "code",
   "execution_count": null,
   "metadata": {},
   "outputs": [],
   "source": [
    "combine_adata_exp = combine_adata[combine_adata.obs.dataset == 'PRISM3D']\n",
    "a = [len(combine_adata_exp[combine_adata_exp.obs.leiden == _]) for _ in combine_adata_exp.obs.leiden.unique()]\n",
    "fig, ax = plt.subplots(figsize=(7,3))\n",
    "sns.histplot(a, bins=30, stat='count', \n",
    "             alpha=1, edgecolor='white', linewidth=0.5, ax=ax,\n",
    "             kde=True, line_kws=dict(color='black', alpha=0.7, linewidth=1.5, label='KDE'),\n",
    "            )\n",
    "plt.show()\n",
    "\n",
    "combine_adata_exp_thre = combine_adata_exp[combine_adata_exp.obs.leiden.isin([_ for _ in combine_adata_exp.obs.leiden.unique() if len(combine_adata_exp[combine_adata_exp.obs.leiden == _]) > 50])]"
   ]
  },
  {
   "cell_type": "markdown",
   "metadata": {},
   "source": [
    "### boxplot"
   ]
  },
  {
   "cell_type": "code",
   "execution_count": null,
   "metadata": {},
   "outputs": [],
   "source": [
    "unknown_cluster = [str(_) for _ in sorted([int(_) for _ in combine_adata.obs.leiden.unique()])]\n",
    "fig, ax = plt.subplots(ncols=1, nrows=len(unknown_cluster),figsize =(25, 100))\n",
    "for _, cluster_num  in enumerate(unknown_cluster):\n",
    "    data = combine_adata[combine_adata.obs['leiden'] == cluster_num].X\n",
    "    ax[_].boxplot(data, flierprops={'marker': 'o', 'markersize': 2, 'markerfacecolor': 'fuchsia'})\n",
    "    ax[_].set_xticklabels(list(combine_adata.var_names))\n",
    "    ax[_].set_title(f'cluster{cluster_num}')\n",
    "plt.savefig(os.path.join(workdir, 'cell_typing', 'boxplot_by_leiden.png'))\n",
    "plt.close()"
   ]
  },
  {
   "cell_type": "markdown",
   "metadata": {},
   "source": [
    "### umap by gene"
   ]
  },
  {
   "cell_type": "code",
   "execution_count": null,
   "metadata": {},
   "outputs": [],
   "source": [
    "UMAP_genes_plot(combine_adata, FOI=os.path.split(workdir)[-1], save=False, datatype='harmony', dataset=['PRISM3D'], size=5)"
   ]
  },
  {
   "cell_type": "markdown",
   "metadata": {},
   "source": [
    "### umap by leiden"
   ]
  },
  {
   "cell_type": "code",
   "execution_count": null,
   "metadata": {},
   "outputs": [],
   "source": [
    "UMAP_leiden_plot(combine_adata, FOI=os.path.split(workdir)[-1], color='leiden', save=False, out_path=out_path, datatype='harmony', DOI=['PRISM3D'], size=10)"
   ]
  },
  {
   "cell_type": "markdown",
   "metadata": {},
   "source": [
    "## annotate interested clusters"
   ]
  },
  {
   "cell_type": "markdown",
   "metadata": {},
   "source": [
    "### spatial preview"
   ]
  },
  {
   "cell_type": "code",
   "execution_count": null,
   "metadata": {},
   "outputs": [],
   "source": [
    "combine_adata_st = combine_adata[combine_adata.obs.dataset == 'PRISM3D']\n",
    "combine_adata_st.obs.index = [int(_.split('-')[0]) for _ in combine_adata_st.obs.index]"
   ]
  },
  {
   "cell_type": "code",
   "execution_count": null,
   "metadata": {},
   "outputs": [],
   "source": [
    "# load spatial information\n",
    "centroid = pd.read_csv(os.path.join(workdir, 'dapi_predict.csv'), index_col=0)\n",
    "centroid_sub = centroid.loc[combine_adata_st.obs.index]\n",
    "combine_adata_st.obsm['spatial'] = np.array([centroid_sub['y_in_pix'], centroid_sub['x_in_pix']]).T\n",
    "combine_adata_st.obsm['spatial3d'] = np.array([centroid_sub['x_in_pix'], \n",
    "                                    centroid_sub['y_in_pix'], \n",
    "                                    centroid_sub['z_in_pix']*3.36]).T"
   ]
  },
  {
   "cell_type": "code",
   "execution_count": null,
   "metadata": {},
   "outputs": [],
   "source": [
    "from mpl_toolkits.mplot3d import Axes3D\n",
    "import matplotlib.gridspec as gridspec\n",
    "\n",
    "group = [\n",
    "0,8\n",
    "         ]\n",
    "group = [str(_) for _ in group]\n",
    "\n",
    "fig = plt.figure(figsize=(12, 5))\n",
    "gs = gridspec.GridSpec(1, 10)\n",
    "\n",
    "ax_2d = fig.add_subplot(gs[0, :5])\n",
    "sc.pl.embedding(\n",
    "    # combine_adata_st,\n",
    "    combine_adata_st[combine_adata_st.obs.leiden.isin(group)], \n",
    "    basis=\"spatial\", color=\"leiden\", #palette=['brown'],\n",
    "    size=50, alpha=1, ax=ax_2d, show=False)\n",
    "ax_2d.set_xlim([-100, 6500])\n",
    "ax_2d.set_ylim([-100, 2000])\n",
    "ax_2d.invert_yaxis()\n",
    "\n",
    "ax_3d = fig.add_subplot(gs[0, 5:], projection='3d', )\n",
    "sc.pl.embedding(\n",
    "    # combine_adata_st,\n",
    "    combine_adata_st[combine_adata_st.obs.leiden.isin(group)], \n",
    "    basis=\"spatial3d\", projection=\"3d\", color=\"leiden\", #palette=['brown'],\n",
    "    size=1, alpha=1, ax=ax_3d, show=False)\n",
    "ax_3d.set_xlim([-200, 2200])\n",
    "ax_3d.set_ylim([-200, 6500])\n",
    "ax_3d.set_zlim([-100, 200])\n",
    "\n",
    "# Set view angle\n",
    "elev, azim = 90, 0\n",
    "ax_3d.view_init(elev=elev, azim=azim)\n",
    "\n",
    "plt.tight_layout()\n",
    "plt.show()"
   ]
  },
  {
   "cell_type": "code",
   "execution_count": null,
   "metadata": {},
   "outputs": [],
   "source": [
    "combine_adata_st[combine_adata_st.obs.leiden=='2']"
   ]
  },
  {
   "cell_type": "markdown",
   "metadata": {},
   "source": [
    "### relabel mapping"
   ]
  },
  {
   "cell_type": "code",
   "execution_count": null,
   "metadata": {},
   "outputs": [],
   "source": [
    "cluster_dict = {\n",
    "    \"Ex-2or3\":[1],\n",
    "    \"Ex-4\":[3],\n",
    "    \"Ex-5\":[5],\n",
    "    \"Ex-6a\":[0,8],\n",
    "    \"Ex-6b\":[13],\n",
    "\n",
    "    \"In-Sst\":[12],\n",
    "    \"In-Pvalb\":[11],\n",
    "    \"In-Vip\":[15],\n",
    "    \"In-Lamp5\":[9],\n",
    "\n",
    "    \"Glial-Astrocyte\":[14,19,16],\n",
    "    \"Glial-Microglia\":[10],\n",
    "    \"Glial-Oligodendrocyte\":[4],\n",
    "}\n",
    "\n",
    "cluster_rough_dict = {\n",
    "    \"Ex\":[],\n",
    "    \"In\":[],\n",
    "    \"Glial\":[],    \n",
    "}\n",
    "for rough_type in cluster_rough_dict.keys():\n",
    "    for fine_type in cluster_dict.keys():\n",
    "        if rough_type in fine_type:\n",
    "            cluster_rough_dict[rough_type] += cluster_dict[fine_type]"
   ]
  },
  {
   "cell_type": "code",
   "execution_count": null,
   "metadata": {},
   "outputs": [],
   "source": [
    "subtype_colormap = {\n",
    "    \"Ex-2or3\":(0,0,1), \"Ex-4\":(0,1,0), \"Ex-5\":(1,1,0), \"Ex-6a\":(1,0,1), \"Ex-6b\":(1,0,0),\n",
    "    \"In-Lamp5\":(1,0.5,0), \"In-Sst\":(1,0.8,0), \"In-Pvalb\":(0.5,0.5,0.5), \"In-Vip\":(1,0.35,0), \n",
    "    \"Glial-Astrocyte\":(1,0.72,0.75), \"Glial-Microglia\":(0,1,1), \"Glial-Oligodendrocyte\":(0.33,0.33,1),\n",
    "}"
   ]
  },
  {
   "cell_type": "markdown",
   "metadata": {},
   "source": [
    "### relabel of num and cluster name"
   ]
  },
  {
   "cell_type": "code",
   "execution_count": null,
   "metadata": {},
   "outputs": [],
   "source": [
    "def re_num_leiden(combine_adata_st, cluster_dict, in_leiden='tmp_leiden', out_leiden='new_leiden', out_type='type'):\n",
    "    combine_adata_st.obs[out_leiden] = [\"-2\"] * len(combine_adata_st)\n",
    "    combine_adata_st.obs[out_type] = [\"other\"] * len(combine_adata_st)\n",
    "    for cluster_num, cluster_name in enumerate(cluster_dict.keys()):\n",
    "        for sub_cluster in cluster_dict[cluster_name]:\n",
    "            temp = combine_adata_st[combine_adata_st.obs[in_leiden] == str(sub_cluster)]\n",
    "            combine_adata_st.obs[out_leiden][temp.obs.index] = [str(cluster_num)] * len(temp)\n",
    "            combine_adata_st.obs[out_type][temp.obs.index] = [str(cluster_name)] * len(temp)\n",
    "    temp = combine_adata_st[combine_adata_st.obs[out_leiden] == '-2']\n",
    "    combine_adata_st.obs[out_type][temp.obs.index] = ['other'] * len(temp)\n",
    "    return combine_adata_st"
   ]
  },
  {
   "cell_type": "code",
   "execution_count": null,
   "metadata": {},
   "outputs": [],
   "source": [
    "# rename leidens based on cluster_dict\n",
    "combine_adata_st = re_num_leiden(combine_adata_st, cluster_dict, in_leiden='leiden', out_leiden='leiden_subtype', out_type='subtype')\n",
    "combine_adata_st = re_num_leiden(combine_adata_st, cluster_rough_dict, in_leiden='leiden', out_leiden='leiden_type', out_type='type')\n",
    "combine_adata_st.obs = combine_adata_st.obs.dropna(axis=1)"
   ]
  },
  {
   "cell_type": "code",
   "execution_count": null,
   "metadata": {},
   "outputs": [],
   "source": [
    "counts = []\n",
    "for cell_type in cluster_dict.keys():\n",
    "    cell_num = combine_adata_st[combine_adata_st.obs.subtype == cell_type].obs.subtype.count()\n",
    "    print(f'{cell_type}: {cell_num}')\n",
    "    counts.append(cell_num)\n",
    "print('total_exempt_other:',len(combine_adata_st[combine_adata_st.obs.subtype.isin(cluster_dict.keys())]))\n",
    "print('total:',len(combine_adata_st))"
   ]
  },
  {
   "cell_type": "code",
   "execution_count": null,
   "metadata": {},
   "outputs": [],
   "source": [
    "plt.figure(figsize=(8, 8))\n",
    "plt.pie(counts, labels=cluster_dict.keys(), autopct='%1.1f%%', startangle=140, colors=subtype_colormap.values())\n",
    "plt.axis('equal')  # Equal aspect ratio ensures the pie chart is circular.\n",
    "plt.title('{} Cell Type Distribution'.format(workdir.split('_')[-3]))\n",
    "plt.tight_layout()\n",
    "plt.savefig(os.path.join(workdir, 'cell_typing', 'annotated_subtype_cell_num.png'), bbox_inches='tight', dpi=300)"
   ]
  },
  {
   "cell_type": "code",
   "execution_count": null,
   "metadata": {},
   "outputs": [],
   "source": [
    "# save the adata\n",
    "combine_adata_st.write_h5ad(os.path.join(workdir, 'adata.h5ad'))\n",
    "\n",
    "# Writing the list to a text file\n",
    "with open(os.path.join(workdir, 'cell_typing', 'annotated_subtype.txt'), 'w') as file:\n",
    "    for item in cluster_dict.keys():\n",
    "        file.write(f\"{item}\\n\")\n",
    "\n",
    "with open(os.path.join(workdir, 'cell_typing', 'annotated_type.txt'), 'w') as file:\n",
    "    for item in cluster_rough_dict.keys():\n",
    "        file.write(f\"{item}\\n\")\n",
    "\n",
    "# cell num\n",
    "with open(os.path.join(workdir, 'cell_typing', 'annotated_subtype_cell_num.txt'), 'w') as file:\n",
    "    for cell_type in cluster_dict.keys():\n",
    "        cell_num = combine_adata_st[combine_adata_st.obs.subtype == cell_type].obs.subtype.count()\n",
    "        file.write(f\"{cell_type}: {cell_num}\\n\")\n",
    "    file.write('total_exempt_other: {}\\n'.format(len(combine_adata_st[combine_adata_st.obs.subtype.isin(cluster_dict.keys())])))\n",
    "    file.write('total_num: {}\\n'.format(len(combine_adata_st)))\n",
    "\n",
    "with open(os.path.join(workdir, 'cell_typing', 'annotated_type_cell_num.txt'), 'w') as file:\n",
    "    for cell_type in cluster_rough_dict.keys():\n",
    "        cell_num = combine_adata_st[combine_adata_st.obs.type == cell_type].obs.type.count()\n",
    "        file.write(f\"{cell_type}: {cell_num}\\n\")\n",
    "    file.write('total_exempt_other: {}\\n'.format(len(combine_adata_st[combine_adata_st.obs.type.isin(cluster_rough_dict.keys())])))\n",
    "    file.write('total_num: {}\\n'.format(len(combine_adata_st)))"
   ]
  },
  {
   "cell_type": "markdown",
   "metadata": {},
   "source": [
    "## spatial projection"
   ]
  },
  {
   "cell_type": "code",
   "execution_count": null,
   "metadata": {},
   "outputs": [],
   "source": [
    "combine_adata_st = sc.read_h5ad(os.path.join(workdir, 'adata.h5ad'))"
   ]
  },
  {
   "cell_type": "code",
   "execution_count": null,
   "metadata": {},
   "outputs": [],
   "source": [
    "from mpl_toolkits.mplot3d import Axes3D\n",
    "import matplotlib.gridspec as gridspec\n",
    "\n",
    "tmp = combine_adata_st.copy()\n",
    "\n",
    "fig = plt.figure(figsize=(12, 5))\n",
    "gs = gridspec.GridSpec(1, 10)\n",
    "ax_2d = fig.add_subplot(gs[0, :5])\n",
    "sc.pl.embedding(\n",
    "    tmp, \n",
    "    basis=\"spatial\", color=\"subtype\", #palette=palette,\n",
    "    size=50, alpha=1, ax=ax_2d, show=False)\n",
    "ax_2d.set_xlim([-100, 6500])\n",
    "ax_2d.set_ylim([-100, 2000])\n",
    "ax_2d.invert_yaxis()\n",
    "\n",
    "ax_3d = fig.add_subplot(gs[0, 5:], projection='3d', )\n",
    "sc.pl.embedding(tmp,\n",
    "                basis=\"spatial3d\", projection=\"3d\", color=\"subtype\", #palette=palette,\n",
    "                size=1, alpha=1, ax=ax_3d, show=False)\n",
    "ax_3d.set_xlim([-200, 2200])\n",
    "ax_3d.set_ylim([-200, 6500])\n",
    "ax_3d.set_zlim([-100, 200])\n",
    "\n",
    "# Set view angle\n",
    "elev, azim = 90, 0\n",
    "ax_3d.view_init(elev=elev, azim=azim)\n",
    "\n",
    "plt.tight_layout()\n",
    "# plt.savefig(os.path.join(workdir, 'cell_typing', 'spatial_overview.png'), bbox_inches='tight', dpi=300)\n",
    "plt.show()"
   ]
  },
  {
   "cell_type": "code",
   "execution_count": null,
   "metadata": {},
   "outputs": [],
   "source": [
    "from mpl_toolkits.mplot3d import Axes3D\n",
    "import matplotlib.gridspec as gridspec\n",
    "\n",
    "tmp = combine_adata_st[combine_adata_st.obs.subtype.isin([\"Ex-2or3\", 'Ex-4', 'Ex-5', 'Ex-6a', 'Ex-6b'])]\n",
    "\n",
    "fig = plt.figure(figsize=(12, 5))\n",
    "gs = gridspec.GridSpec(1, 10)\n",
    "ax_2d = fig.add_subplot(gs[0, :5])\n",
    "sc.pl.embedding(\n",
    "    tmp, \n",
    "    basis=\"spatial\", color=\"subtype\", #palette=palette,\n",
    "    size=70, alpha=1, ax=ax_2d, show=False)\n",
    "ax_2d.set_xlim([-100, 6500])\n",
    "ax_2d.set_ylim([-100, 2000])\n",
    "ax_2d.invert_yaxis()\n",
    "\n",
    "ax_3d = fig.add_subplot(gs[0, 5:], projection='3d', )\n",
    "sc.pl.embedding(tmp,\n",
    "                basis=\"spatial3d\", projection=\"3d\", color=\"subtype\", #palette=palette,\n",
    "                size=1, alpha=1, ax=ax_3d, show=False)\n",
    "ax_3d.set_xlim([-200, 2200])\n",
    "ax_3d.set_ylim([-200, 6500])\n",
    "ax_3d.set_zlim([-100, 200])\n",
    "\n",
    "# Set view angle\n",
    "elev, azim = 90, 0\n",
    "ax_3d.view_init(elev=elev, azim=azim)\n",
    "\n",
    "plt.tight_layout()\n",
    "# plt.savefig(os.path.join(workdir, 'cell_typing', 'spatial_overview.png'), bbox_inches='tight', dpi=300)\n",
    "plt.show()"
   ]
  },
  {
   "cell_type": "code",
   "execution_count": null,
   "metadata": {},
   "outputs": [],
   "source": [
    "from mpl_toolkits.mplot3d import Axes3D\n",
    "import matplotlib.gridspec as gridspec\n",
    "\n",
    "outpath = os.path.join(workdir, 'cell_typing', 'spatial_projection_subtype')\n",
    "os.makedirs(outpath, exist_ok=True)\n",
    "\n",
    "for _, subtype in enumerate(cluster_dict.keys()):\n",
    "    fig = plt.figure(figsize=(12, 5))\n",
    "    gs = gridspec.GridSpec(1, 10)\n",
    "    ax_2d = fig.add_subplot(gs[0, :5])\n",
    "    sc.pl.embedding(\n",
    "        combine_adata_st[combine_adata_st.obs.subtype == subtype], \n",
    "        basis=\"spatial\", color=\"subtype\", \n",
    "        size=50, alpha=1, ax=ax_2d, show=False)\n",
    "    ax_2d.set_xlim([-100, 6500])\n",
    "    ax_2d.set_ylim([-100, 2000])\n",
    "    ax_2d.invert_yaxis()\n",
    "\n",
    "    ax_3d = fig.add_subplot(gs[0, 5:], projection='3d', )\n",
    "    sc.pl.embedding(combine_adata_st[combine_adata_st.obs.subtype == subtype],\n",
    "                    basis=\"spatial3d\", projection=\"3d\", color=\"subtype\",\n",
    "                    size=1, alpha=1, ax=ax_3d, show=False)\n",
    "    ax_3d.set_xlim([-200, 2200])\n",
    "    ax_3d.set_ylim([-200, 6500])\n",
    "    ax_3d.set_zlim([-100, 200])\n",
    "\n",
    "    # Set view angle\n",
    "    elev, azim = 90, 0\n",
    "    ax_3d.view_init(elev=elev, azim=azim)\n",
    "\n",
    "    plt.tight_layout()\n",
    "    plt.savefig(os.path.join(outpath, f'{_}_{subtype}.png'), bbox_inches='tight', dpi=300)\n",
    "    plt.close()"
   ]
  },
  {
   "cell_type": "markdown",
   "metadata": {},
   "source": [
    "# Plot: cell typing"
   ]
  },
  {
   "cell_type": "markdown",
   "metadata": {},
   "source": [
    "## dotplot for type and subtype"
   ]
  },
  {
   "cell_type": "code",
   "execution_count": null,
   "metadata": {},
   "outputs": [],
   "source": [
    "adata_st = sc.read_h5ad(os.path.join(workdir, 'adata.h5ad'))"
   ]
  },
  {
   "cell_type": "code",
   "execution_count": null,
   "metadata": {},
   "outputs": [],
   "source": [
    "tmp_var_names=[\n",
    "    'GAPDH', 'SLC17A7', 'RASGRF2', 'RORB', 'PLCXD2', 'RPRM', 'NR4A2', 'CTGF', \n",
    "    'GAD1', 'GAD2', 'LAMP5', 'SST', 'PVALB', 'VIP', \n",
    "    \n",
    "    'GFAP', 'AQP4', 'SLC1A3', \n",
    "    'CX3CR1', \n",
    "    'APOD', 'PLP1', \n",
    "\n",
    "    'SNAP25', 'RGS4', 'PROX1',\n",
    "    'VXN', 'PCP4','PMCH', \n",
    "    'CCK', 'MBP', 'ENPP2', 'NOV', \n",
    "]\n",
    "\n",
    "tmp_category = [\n",
    "    \"Ex-2or3\", \"Ex-4\", \"Ex-5\", \"Ex-6a\", \"Ex-6b\",\n",
    "    \"In-Lamp5\", \"In-Sst\", \"In-Pvalb\", \"In-Vip\", \n",
    "    \"Glial-Astrocyte\", \"Glial-Microglia\", \"Glial-Oligodendrocyte\",\n",
    "]\n",
    "\n",
    "tmp = adata_st.copy()\n",
    "tmp = adata_st[adata_st.obs.subtype!='other']\n",
    "tmp.obs.subtype = pd.Categorical(tmp.obs.subtype, categories=tmp_category)\n",
    "                                                                                                                                                                                                \n",
    "fig, ax = plt.subplots(figsize=(12,10))\n",
    "sc.pl.dotplot(tmp, var_names=tmp_var_names, groupby='subtype', \n",
    "              vmax=5, ax=ax, show=False,)\n",
    "ax.set_title('{}_{}'.format(os.path.split(workdir)[-1], 'dotplot'))\n",
    "# plt.show()\n",
    "plt.savefig(os.path.join(workdir, 'cell_typing', 'dotplot_type.pdf'), bbox_inches = 'tight')"
   ]
  },
  {
   "cell_type": "markdown",
   "metadata": {},
   "source": [
    "## umap by subtype"
   ]
  },
  {
   "cell_type": "code",
   "execution_count": null,
   "metadata": {},
   "outputs": [],
   "source": [
    "tmp = adata_st[adata_st.obs.subtype != 'other']\n",
    "UMAP_leiden_plot(adata=tmp, \n",
    "    color='subtype', datatype='harmony',legend_loc='right margin', size=30, palette=subtype_colormap, #FOI=FOI, \n",
    "    save=True, out_path=os.path.join(workdir, 'cell_typing', 'UMAP_subtype.png'), dpi=300)"
   ]
  },
  {
   "cell_type": "markdown",
   "metadata": {},
   "source": [
    "## gene distribution of each cluster"
   ]
  },
  {
   "cell_type": "code",
   "execution_count": null,
   "metadata": {},
   "outputs": [],
   "source": [
    "for cluster_num in [str(_) for _ in []]:\n",
    "    cluster=combine_adata_st[combine_adata_st.obs['leiden']==cluster_num].X\n",
    "    fig, ax = plt.subplots(figsize=(20, 4))\n",
    "    plt.boxplot(cluster, labels=combine_adata_st.var_names)\n",
    "    fig.tight_layout()\n",
    "    fig.suptitle(f'distribution of cluster{cluster_num}')\n",
    "    plt.show()"
   ]
  },
  {
   "cell_type": "markdown",
   "metadata": {},
   "source": [
    "# Plot: quantitative spatial analysis"
   ]
  },
  {
   "cell_type": "code",
   "execution_count": null,
   "metadata": {},
   "outputs": [],
   "source": [
    "import squidpy as sq\n",
    "fig = plt.figure(figsize=(20,5))\n",
    "ax_1 = fig.add_subplot(121)\n",
    "sq.pl.spatial_scatter(combine_adata_st, shape=None, color=\"subtype\", size=0.1, ax=ax_1)\n",
    "ax_1.invert_yaxis()\n",
    "\n",
    "ax_2 = fig.add_subplot(122, projection='3d')\n",
    "sc.pl.embedding(combine_adata_st, basis=\"spatial\", projection=\"3d\", color=\"subtype\", size=0.1)\n",
    "plt.show()"
   ]
  },
  {
   "cell_type": "markdown",
   "metadata": {},
   "source": [
    "# Plot: spatial neighborhood enrichment"
   ]
  },
  {
   "cell_type": "code",
   "execution_count": null,
   "metadata": {},
   "outputs": [],
   "source": [
    "sq.gr.spatial_neighbors(combine_adata_st, coord_type=\"generic\", spatial_key=\"spatial3d\")"
   ]
  },
  {
   "cell_type": "code",
   "execution_count": null,
   "metadata": {},
   "outputs": [],
   "source": [
    "subtype_reorder = cluster_dict.keys()\n",
    "\n",
    "tmp = combine_adata_st.copy()\n",
    "tmp.obs.subtype = pd.Categorical(tmp.obs.subtype, categories=subtype_reorder)"
   ]
  },
  {
   "cell_type": "code",
   "execution_count": null,
   "metadata": {},
   "outputs": [],
   "source": [
    "sq.gr.nhood_enrichment(tmp, cluster_key=\"subtype\")"
   ]
  },
  {
   "cell_type": "code",
   "execution_count": null,
   "metadata": {},
   "outputs": [],
   "source": [
    "fig,ax = plt.subplots(figsize=(10,10))\n",
    "sq.pl.nhood_enrichment(tmp, cluster_key=\"subtype\", \n",
    "    method='ward', cmap=\"coolwarm\", vmin=-100, vmax=100, ax=ax)\n",
    "plt.show()"
   ]
  },
  {
   "cell_type": "markdown",
   "metadata": {},
   "source": [
    "# Plot: heatmap of pearson vs. single cell"
   ]
  },
  {
   "cell_type": "markdown",
   "metadata": {},
   "source": [
    "## cluster of sc data"
   ]
  },
  {
   "cell_type": "code",
   "execution_count": null,
   "metadata": {},
   "outputs": [],
   "source": [
    "# adata_sc_subset = adata_sc[:, list_of_variable_names]\n",
    "adata_sc_subset = adata_sc.copy()\n",
    "adata_sc_subset = preprocess_of_UMAP(adata_sc_subset)\n",
    "\n",
    "sc.tl.pca(adata_sc_subset, n_comps=29)\n",
    "sc.pl.pca_variance_ratio(adata_sc_subset, log=False)\n",
    "\n",
    "h_pcs = 29\n",
    "sc.tl.pca(adata_sc_subset, n_comps=h_pcs)\n",
    "print(adata_sc_subset)\n",
    "\n",
    "import scanpy.external as sce\n",
    "sce.pp.harmony_integrate(\n",
    "    adata_sc_subset,\n",
    "    \"dataset\",\n",
    "    \"X_pca\",\n",
    "    \"X_pca_harmony\",\n",
    "    max_iter_harmony=30,\n",
    "    # max_iter_kmeans=30,\n",
    ")\n",
    "\n",
    "neighbor = 50\n",
    "sc.pp.neighbors(adata_sc_subset, n_neighbors=neighbor, use_rep=\"X_pca_harmony\")\n",
    "sc.tl.umap(adata_sc_subset)"
   ]
  },
  {
   "cell_type": "code",
   "execution_count": null,
   "metadata": {},
   "outputs": [],
   "source": [
    "leiden_resolution=2\n",
    "sc.tl.leiden(adata_sc_subset, resolution=leiden_resolution)"
   ]
  },
  {
   "cell_type": "code",
   "execution_count": null,
   "metadata": {},
   "outputs": [],
   "source": [
    "adata_sc_subset_reduced = adata_sc_subset[:, list_of_variable_names]"
   ]
  },
  {
   "cell_type": "code",
   "execution_count": null,
   "metadata": {},
   "outputs": [],
   "source": [
    "UMAP_genes_plot(adata=adata_sc_subset_reduced, size=5, vmax=3, \n",
    "                FOI='CTX', dataset=[\"mousebrain_CTX1\", \"mousebrain_CTX2\", 'mousebrain_CTX3'],\n",
    "                save=False, out_path=out_path, datatype='sc_harmony')\n",
    "UMAP_leiden_plot(adata=adata_sc_subset_reduced, DOI=[\"mousebrain_CTX1\", \"mousebrain_CTX2\", 'mousebrain_CTX3'], \n",
    "                 size=5, FOI='CTX', color='leiden', \n",
    "                 save=False, out_path=out_path, datatype='sc_harmony')"
   ]
  },
  {
   "cell_type": "code",
   "execution_count": null,
   "metadata": {},
   "outputs": [],
   "source": [
    "adata_sc_subset.obs['Num_Pooled_Animals'] = [str(_) for _ in adata_sc_subset.obs['Num_Pooled_Animals']]\n",
    "adata_sc_subset.obs['ngperul_cDNA'] = [str(_) for _ in adata_sc_subset.obs['ngperul_cDNA']]\n",
    "adata_sc_subset_reduced.obs['Num_Pooled_Animals'] = [str(_) for _ in adata_sc_subset_reduced.obs['Num_Pooled_Animals']]\n",
    "adata_sc_subset_reduced.obs['ngperul_cDNA'] = [str(_) for _ in adata_sc_subset_reduced.obs['ngperul_cDNA']]"
   ]
  },
  {
   "cell_type": "code",
   "execution_count": null,
   "metadata": {},
   "outputs": [],
   "source": [
    "tmp_var_names=[\n",
    "    'GAPDH', 'SLC17A7', 'RASGRF2', 'RORB', 'PLCXD2', 'RPRM', 'NR4A2', 'CTGF', \n",
    "    'GAD1', 'GAD2', 'SST', 'PVALB', 'VIP', 'LAMP5', \n",
    "    \n",
    "    'GFAP', 'AQP4', 'SLC1A3', \n",
    "    'CX3CR1', \n",
    "    'APOD', 'PLP1', 'MBP', \n",
    "\n",
    "    'PCP4','SNAP25', 'RGS4', 'VXN', \n",
    "    'CCK', 'ENPP2', 'NOV', 'PROX1', 'PMCH', \n",
    "]\n",
    "fig, ax = plt.subplots(figsize=(13, 20))\n",
    "sc.pl.dotplot(adata_sc_subset_reduced, \n",
    "              var_names=tmp_var_names, groupby='leiden', vmax=10, show=False, ax=ax)\n",
    "# plt.savefig(os.path.join(workdir, 'cell_typing', 'sc_reduced_process', 'dotplot_leiden.pdf'), bbox_inches='tight')\n",
    "plt.show()\n",
    "plt.close()"
   ]
  },
  {
   "cell_type": "code",
   "execution_count": null,
   "metadata": {},
   "outputs": [],
   "source": [
    "cluster_dict = {\n",
    "    \"Ex-2or3\":[8, 9],\n",
    "    \"Ex-4\":[1, 21],\n",
    "    \"Ex-5\":[3, 33, 39],\n",
    "    \"Ex-6\":[0, 13, 23, 25],\n",
    "    \"Ex-other\":[5, 7, 12, 16, 17, 34],\n",
    "\n",
    "    \"In-Sst\":[27, 29],\n",
    "    \"In-Pvalb\":[],\n",
    "    \"In-Vip\":[15, 31],\n",
    "    \"In-other\":[38],\n",
    "\n",
    "    \"Glial-Astrocyte\":[11, 14, 18, 20, 22, 26, 28, 36, 43, 46],\n",
    "    \"Glial-Microglia\":[6, 35, 45],\n",
    "    \"Glial-Oligodendrocyte\":[19, 24, 30, 41, 42],\n",
    "}\n",
    "\n",
    "cluster_rough_dict = {\n",
    "    \"Ex\":[],\n",
    "    \"In\":[],\n",
    "    \"Glial\":[],    \n",
    "}\n",
    "for rough_type in cluster_rough_dict.keys():\n",
    "    for fine_type in cluster_dict.keys():\n",
    "        if rough_type in fine_type:\n",
    "            cluster_rough_dict[rough_type] += cluster_dict[fine_type]"
   ]
  },
  {
   "cell_type": "code",
   "execution_count": null,
   "metadata": {},
   "outputs": [],
   "source": [
    "def re_num_leiden(combine_adata_st, cluster_dict, in_leiden='tmp_leiden', out_leiden='new_leiden', out_type='type'):\n",
    "    combine_adata_st.obs[out_leiden] = [\"-2\"] * len(combine_adata_st)\n",
    "    combine_adata_st.obs[out_type] = [\"other\"] * len(combine_adata_st)\n",
    "    for cluster_num, cluster_name in enumerate(cluster_dict.keys()):\n",
    "        for sub_cluster in cluster_dict[cluster_name]:\n",
    "            temp = combine_adata_st[combine_adata_st.obs[in_leiden] == str(sub_cluster)]\n",
    "            combine_adata_st.obs[out_leiden][temp.obs.index] = [str(cluster_num)] * len(temp)\n",
    "            combine_adata_st.obs[out_type][temp.obs.index] = [str(cluster_name)] * len(temp)\n",
    "    temp = combine_adata_st[combine_adata_st.obs[out_leiden] == '-2']\n",
    "    combine_adata_st.obs[out_type][temp.obs.index] = ['other'] * len(temp)\n",
    "    return combine_adata_st"
   ]
  },
  {
   "cell_type": "code",
   "execution_count": null,
   "metadata": {},
   "outputs": [],
   "source": [
    "# rename leidens based on cluster_dict\n",
    "adata_sc_subset_reduced.obs_names_make_unique()\n",
    "adata_sc_subset_reduced.var_names_make_unique()\n",
    "adata_sc_subset_reduced = re_num_leiden(adata_sc_subset_reduced, cluster_dict, in_leiden='leiden', out_leiden='leiden_subtype', out_type='subtype')\n",
    "adata_sc_subset_reduced = re_num_leiden(adata_sc_subset_reduced, cluster_rough_dict, in_leiden='leiden', out_leiden='leiden_type', out_type='type')\n",
    "adata_sc_subset_reduced.obs = adata_sc_subset_reduced.obs.dropna(axis=1)"
   ]
  },
  {
   "cell_type": "code",
   "execution_count": null,
   "metadata": {},
   "outputs": [],
   "source": [
    "adata_sc_subset_reduced[adata_sc_subset_reduced.obs.subtype!='other']"
   ]
  },
  {
   "cell_type": "code",
   "execution_count": null,
   "metadata": {},
   "outputs": [],
   "source": [
    "counts = []\n",
    "for cell_type in cluster_dict.keys():\n",
    "    cell_num = adata_sc_subset_reduced[adata_sc_subset_reduced.obs.subtype == cell_type].obs.subtype.count()\n",
    "    print(f'{cell_type}: {cell_num}')\n",
    "    counts.append(cell_num)\n",
    "print('total_exempt_other:',len(adata_sc_subset_reduced[adata_sc_subset_reduced.obs.subtype.isin(cluster_dict.keys())]))\n",
    "print('total:',len(adata_sc_subset_reduced))"
   ]
  },
  {
   "cell_type": "code",
   "execution_count": null,
   "metadata": {},
   "outputs": [],
   "source": [
    "adata_sc_subset = sc.read_h5ad(os.path.join(workdir, 'cell_typing', 'sc_process', 'adata_sc.h5ad'))\n",
    "adata_sc_subset_reduced = sc.read_h5ad(os.path.join(workdir, 'cell_typing', 'sc_process', 'adata_sc_annotated.h5ad'))"
   ]
  },
  {
   "cell_type": "markdown",
   "metadata": {},
   "source": [
    "## analysis of sc data"
   ]
  },
  {
   "cell_type": "code",
   "execution_count": null,
   "metadata": {},
   "outputs": [],
   "source": [
    "list(adata_sc_subset_reduced.obs.subtype.unique())"
   ]
  },
  {
   "cell_type": "code",
   "execution_count": null,
   "metadata": {},
   "outputs": [],
   "source": [
    "tmp_var_names=[\n",
    "    'GAPDH', 'SLC17A7', 'RASGRF2', 'RORB', 'PLCXD2', 'RPRM', 'NR4A2', 'CTGF', \n",
    "    'GAD1', 'GAD2', 'LAMP5', 'SST', 'PVALB', 'VIP', \n",
    "    \n",
    "    'GFAP', 'AQP4', 'SLC1A3', \n",
    "    'CX3CR1', \n",
    "    'APOD', 'PLP1', \n",
    "\n",
    "    'SNAP25', 'RGS4', 'PROX1',\n",
    "    'VXN', 'PCP4','PMCH', \n",
    "    'CCK', 'MBP', 'ENPP2', 'NOV', \n",
    "]\n",
    "\n",
    "tmp_category = [\n",
    "    \"Ex-2or3\", \"Ex-4\", \"Ex-5\", \"Ex-6\",\n",
    "    \"In-Sst\", \"In-Vip\", \n",
    "    \"Glial-Astrocyte\", \"Glial-Microglia\", \"Glial-Oligodendrocyte\",\n",
    "]\n",
    "\n",
    "tmp = adata_sc_subset_reduced.copy()\n",
    "tmp = adata_sc_subset_reduced[adata_sc_subset_reduced.obs.subtype!='other']\n",
    "tmp.obs.subtype = pd.Categorical(tmp.obs.subtype, categories=tmp_category)\n",
    "                                                                                                                                                                                                \n",
    "fig, ax = plt.subplots(figsize=(12,10))\n",
    "sc.pl.dotplot(tmp, var_names=tmp_var_names, groupby='subtype', \n",
    "              vmax=5, ax=ax, show=False,)\n",
    "ax.set_title('{}_{}'.format(os.path.split(workdir)[-1], 'dotplot'))\n",
    "plt.tight_layout()\n",
    "plt.show()\n",
    "# plt.savefig(os.path.join(workdir, 'cell_typing', 'dotplot_type.pdf'), bbox_inches = 'tight')"
   ]
  },
  {
   "cell_type": "code",
   "execution_count": null,
   "metadata": {},
   "outputs": [],
   "source": [
    "adata_sc_subset"
   ]
  },
  {
   "cell_type": "markdown",
   "metadata": {},
   "source": [
    "## calculate of coor matrix"
   ]
  },
  {
   "cell_type": "code",
   "execution_count": null,
   "metadata": {},
   "outputs": [],
   "source": [
    "# adata_sc_subset_reduced = sc.read_h5ad(os.path.join(workdir, 'cell_typing', 'direct', 'adata.h5ad'))\n",
    "# combine_adata_st = sc.read_h5ad(os.path.join(workdir, 'adata.h5ad'))"
   ]
  },
  {
   "cell_type": "code",
   "execution_count": null,
   "metadata": {},
   "outputs": [],
   "source": [
    "adata_sc_subset_reduced.X = adata_sc_subset_reduced.X.toarray()"
   ]
  },
  {
   "cell_type": "code",
   "execution_count": null,
   "metadata": {},
   "outputs": [],
   "source": [
    "combine_adata_st.obs.subtype = combine_adata_st.obs.subtype.replace({'Ex-6a': 'Ex-6', 'Ex-6b': 'Ex-6'})"
   ]
  },
  {
   "cell_type": "code",
   "execution_count": null,
   "metadata": {},
   "outputs": [],
   "source": [
    "cluster_of_intere =[\n",
    "    'Ex-2or3',\n",
    "    'Ex-4',\n",
    "    # 'Ex-5',\n",
    "    'Ex-6a',\n",
    "    'Ex-6b',\n",
    "    # 'Ex-other',\n",
    "    'In-Sst',\n",
    "    'In-Pvalb',\n",
    "    'In-Vip',\n",
    "    # 'In-other',\n",
    "    'Glial-Astrocyte',\n",
    "    'Glial-Microglia',\n",
    "    'Glial-Oligodendrocyte']\n",
    "\n",
    "raw_data_matrix, sc_data_matrix, corr_matrix = matrix_for_heatmap(\n",
    "    adata_1=combine_adata_st,\n",
    "    adata_2=adata_sc_subset_reduced,\n",
    "    adata_ori='',\n",
    "    obs_1=\"subtype\", \n",
    "    obs_2=\"subtype\", \n",
    "    cluster_of_intere=cluster_of_intere, \n",
    "    sc_cluster_of_intere=cluster_of_intere, \n",
    "    save=False, \n",
    "    whole=False\n",
    "    )"
   ]
  },
  {
   "cell_type": "markdown",
   "metadata": {},
   "source": [
    "## plot heatmaps"
   ]
  },
  {
   "cell_type": "markdown",
   "metadata": {},
   "source": [
    "### exp data"
   ]
  },
  {
   "cell_type": "code",
   "execution_count": null,
   "metadata": {},
   "outputs": [],
   "source": [
    "save=False\n",
    "raw_plot = raw_data_matrix.copy()\n",
    "for i in range(raw_plot.shape[1]):\n",
    "    raw_plot[:, i] = raw_plot[:, i] / np.linalg.norm(raw_plot[:, i])\n",
    "\n",
    "plt.figure(figsize=(raw_plot.shape[1], raw_plot.shape[0]))\n",
    "sns.heatmap(\n",
    "    raw_plot,\n",
    "    cmap=\"coolwarm\", annot=True, # vmax=2, vmin=-0.5,\n",
    "    yticklabels=cluster_of_intere, xticklabels=list_of_variable_names,\n",
    ")\n",
    "plt.title(f\"CTX_raw_cluster_gene_mean_expression_heatmap\")\n",
    "plt.show()\n",
    "# plt.savefig(os.path.join(workdir, 'cell_typing', 'sc_process', 'heatmap_exp.pdf'), bbox_inches='tight')"
   ]
  },
  {
   "cell_type": "markdown",
   "metadata": {},
   "source": [
    "### sc data"
   ]
  },
  {
   "cell_type": "code",
   "execution_count": null,
   "metadata": {},
   "outputs": [],
   "source": [
    "save=False\n",
    "sc_plot = sc_data_matrix.copy()\n",
    "for i in range(sc_plot.shape[0]):\n",
    "    sc_plot[i, :] = sc_plot[i, :] / np.linalg.norm(sc_plot[i, :])\n",
    "\n",
    "plt.figure(figsize=(sc_plot.shape[1], sc_plot.shape[0]))\n",
    "sns.heatmap(\n",
    "    sc_plot,\n",
    "    cmap=\"coolwarm\", annot=True, # vmax=2, vmin=-0.5,\n",
    "    yticklabels=cluster_of_intere, xticklabels=list_of_variable_names,\n",
    "    )\n",
    "plt.title(f\"CTX_sc_cluster_gene_mean_expression_heatmap\")\n",
    "plt.show()\n",
    "# plt.savefig(os.path.join(workdir, 'cell_typing', 'sc_process', 'heatmap_sc.pdf'), bbox_inches='tight')"
   ]
  },
  {
   "cell_type": "markdown",
   "metadata": {},
   "source": [
    "### exp_data vs. sc_data"
   ]
  },
  {
   "cell_type": "code",
   "execution_count": null,
   "metadata": {},
   "outputs": [],
   "source": [
    "# map_plot of raw vs. sc cluster\n",
    "map_plot = pd.DataFrame(corr_matrix, columns=cluster_of_intere, index=cluster_of_intere)\n",
    "df = map_plot.copy()\n",
    "# all_nan_columns = df.columns[df.isna().all()].tolist()\n",
    "# all_nan_rows = df.index[df.isna().all(axis=1)].tolist()\n",
    "# union_set = set(all_nan_columns).union(all_nan_rows)\n",
    "# df = df.drop(union_set, axis=0)\n",
    "# df = df.drop(union_set, axis=1)\n",
    "\n",
    "\n",
    "plt.figure(figsize=(24, 18))\n",
    "heatmap = sns.heatmap(\n",
    "    df,\n",
    "    cmap=\"coolwarm\",\n",
    "    annot=True,\n",
    "    # yticklabels=cluster_of_intere,\n",
    "    # xticklabels=cluster_of_intere,\n",
    "    # vmin=0.2,\n",
    "    # vmax=0.6,\n",
    ")\n",
    "plt.show()\n",
    "# plt.savefig(os.path.join(workdir, 'cell_typing', 'direct', 'heatmap_harmony_vs_direct.pdf'), bbox_inches = 'tight')"
   ]
  }
 ],
 "metadata": {
  "kernelspec": {
   "display_name": "cell-segmentation-typing",
   "language": "python",
   "name": "python3"
  },
  "language_info": {
   "codemirror_mode": {
    "name": "ipython",
    "version": 3
   },
   "file_extension": ".py",
   "mimetype": "text/x-python",
   "name": "python",
   "nbconvert_exporter": "python",
   "pygments_lexer": "ipython3",
   "version": "3.8.17"
  }
 },
 "nbformat": 4,
 "nbformat_minor": 4
}
